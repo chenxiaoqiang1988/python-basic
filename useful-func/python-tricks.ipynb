{
 "cells": [
  {
   "cell_type": "markdown",
   "metadata": {},
   "source": [
    "# Python技巧大全"
   ]
  },
  {
   "cell_type": "markdown",
   "metadata": {},
   "source": [
    "知乎上有一个问题：[Python 有什么奇技淫巧？](https://www.zhihu.com/question/27376156)其中有各种不按套路出牌的招数，也不乏一些惊为天人的\"奇技淫巧\"，会让你大呼：居然还有这种操作？？？"
   ]
  },
  {
   "cell_type": "markdown",
   "metadata": {},
   "source": [
    "本文就是对日常使用过的或者觉得很精妙的\"奇技淫巧\"的归纳总结。"
   ]
  },
  {
   "cell_type": "markdown",
   "metadata": {},
   "source": [
    "# Python版问号表达式"
   ]
  },
  {
   "cell_type": "code",
   "execution_count": 1,
   "metadata": {},
   "outputs": [
    {
     "name": "stdout",
     "output_type": "stream",
     "text": [
      "no\n"
     ]
    }
   ],
   "source": [
    "x = 1\n",
    "y = 2\n",
    "print ('no','yes')[x==y]"
   ]
  },
  {
   "cell_type": "markdown",
   "metadata": {},
   "source": [
    "这里巧妙地利用了Python会把False当做序列下标0、把True当做序列下标1的特性，把否定条件的输出放在前面的元组的第一个元素，而把肯定条件的输出放在第二个元素。又比如："
   ]
  },
  {
   "cell_type": "code",
   "execution_count": 2,
   "metadata": {},
   "outputs": [
    {
     "name": "stdout",
     "output_type": "stream",
     "text": [
      "1\n",
      "2\n"
     ]
    }
   ],
   "source": [
    "a = [1,2,3]\n",
    "print a[False]\n",
    "print a[True]"
   ]
  },
  {
   "cell_type": "markdown",
   "metadata": {},
   "source": [
    "此时是不是一幅\"黑人问号\"脸呢？"
   ]
  },
  {
   "cell_type": "markdown",
   "metadata": {},
   "source": [
    "# 列表的深度拷贝"
   ]
  },
  {
   "cell_type": "code",
   "execution_count": 5,
   "metadata": {},
   "outputs": [
    {
     "name": "stdout",
     "output_type": "stream",
     "text": [
      "59952144\n",
      "60485304\n",
      "59952144\n"
     ]
    }
   ],
   "source": [
    "a = [1,2,3]\n",
    "b = a[:]\n",
    "print id(a)\n",
    "print id(b)\n",
    "\n",
    "c = a\n",
    "print id(c)"
   ]
  },
  {
   "cell_type": "markdown",
   "metadata": {},
   "source": [
    "提到深度拷贝，是不是一下子就想起来了copy.deepcopy()函数了？但是对于列表来讲，深度拷贝根本不用那么麻烦，只需像上面那样：`b = a[:]`即可实现，就是这么简单。"
   ]
  },
  {
   "cell_type": "markdown",
   "metadata": {},
   "source": [
    "注：如果a是元组，这样玩是不可以的，切记！比如："
   ]
  },
  {
   "cell_type": "code",
   "execution_count": 9,
   "metadata": {},
   "outputs": [
    {
     "name": "stdout",
     "output_type": "stream",
     "text": [
      "59570456\n",
      "59570456\n"
     ]
    }
   ],
   "source": [
    "a = (1,2,3)\n",
    "b = a[:]\n",
    "print id(a)\n",
    "print id(b)"
   ]
  },
  {
   "cell_type": "markdown",
   "metadata": {},
   "source": [
    "可以看出a和b的id是相同的，那么就想还是乖乖用copy.deepcopy()来拷贝吧："
   ]
  },
  {
   "cell_type": "code",
   "execution_count": 12,
   "metadata": {},
   "outputs": [
    {
     "name": "stdout",
     "output_type": "stream",
     "text": [
      "60481864\n",
      "60481864\n"
     ]
    }
   ],
   "source": [
    "a = (1,2,3)\n",
    "b = copy.deepcopy(a)\n",
    "print id(a)\n",
    "print id(b)"
   ]
  },
  {
   "cell_type": "markdown",
   "metadata": {},
   "source": [
    "但是结果又让我们诧异了，这是因为元组是不可变对象，在内存中同一个元组只会存在一个，再怎么深度拷贝也没用（同为不可变对象的字符串也是同理的）。"
   ]
  },
  {
   "cell_type": "markdown",
   "metadata": {},
   "source": [
    "# 在命令行启动一个本地服务器"
   ]
  },
  {
   "cell_type": "markdown",
   "metadata": {},
   "source": [
    "```python\n",
    "python -m SimpleHTTPServer\n",
    "```"
   ]
  },
  {
   "cell_type": "markdown",
   "metadata": {},
   "source": [
    "打开系统命令行，输入上面这条命令，然后打开浏览器输入地址：`http://localhost:8000/`，回车，将会看到命令行所在当前目录下的所有文件和文件夹，简直就是一个浏览器版的文件管理器。"
   ]
  },
  {
   "cell_type": "markdown",
   "metadata": {},
   "source": [
    "# 把一个字符串写在多行"
   ]
  },
  {
   "cell_type": "code",
   "execution_count": 15,
   "metadata": {},
   "outputs": [
    {
     "name": "stdout",
     "output_type": "stream",
     "text": [
      "abcdefgh\n"
     ]
    }
   ],
   "source": [
    "s = ('abc'\n",
    "    'de'\n",
    "    'fgh'\n",
    "    )\n",
    "print s"
   ]
  },
  {
   "cell_type": "markdown",
   "metadata": {},
   "source": [
    "# 链式比大小"
   ]
  },
  {
   "cell_type": "code",
   "execution_count": 18,
   "metadata": {},
   "outputs": [
    {
     "name": "stdout",
     "output_type": "stream",
     "text": [
      "True\n",
      "True\n",
      "False\n",
      "False\n"
     ]
    }
   ],
   "source": [
    "n = 1\n",
    "print 0 < n < 5\n",
    "print 9 > n < 5\n",
    "print 0 > n < 5\n",
    "print -1 > 0 < n < 5"
   ]
  },
  {
   "cell_type": "markdown",
   "metadata": {},
   "source": [
    "# 动态导入包"
   ]
  },
  {
   "cell_type": "code",
   "execution_count": 22,
   "metadata": {},
   "outputs": [
    {
     "name": "stdout",
     "output_type": "stream",
     "text": [
      "<type 'dict'>\n",
      "{u'a': 123, u'b': u'bbb'}\n"
     ]
    }
   ],
   "source": [
    "d = __import__('json').loads('{\"a\":123,\"b\":\"bbb\"}')\n",
    "print type(d)\n",
    "print d"
   ]
  },
  {
   "cell_type": "markdown",
   "metadata": {},
   "source": [
    "注：动态导入包只在当前语句生效。"
   ]
  },
  {
   "cell_type": "markdown",
   "metadata": {},
   "source": [
    "# 字典推导式"
   ]
  },
  {
   "cell_type": "code",
   "execution_count": 26,
   "metadata": {},
   "outputs": [
    {
     "name": "stdout",
     "output_type": "stream",
     "text": [
      "{0: 0, 1: 1, 2: 4, 3: 9, 4: 16}\n"
     ]
    }
   ],
   "source": [
    "dic = {i:i ** 2 for i in xrange(5)}\n",
    "print dic"
   ]
  },
  {
   "cell_type": "markdown",
   "metadata": {},
   "source": [
    "见过列表推导式、生成器推导式，那么有没有见过字典推导式呢？上面就是一例。"
   ]
  },
  {
   "cell_type": "markdown",
   "metadata": {},
   "source": [
    "# 快速反转字符串"
   ]
  },
  {
   "cell_type": "code",
   "execution_count": 1,
   "metadata": {},
   "outputs": [
    {
     "name": "stdout",
     "output_type": "stream",
     "text": [
      "654321\n"
     ]
    }
   ],
   "source": [
    "s = '123456'\n",
    "print s[::-1]"
   ]
  },
  {
   "cell_type": "markdown",
   "metadata": {},
   "source": [
    "# 优雅地打开文件"
   ]
  },
  {
   "cell_type": "code",
   "execution_count": null,
   "metadata": {
    "collapsed": true
   },
   "outputs": [],
   "source": [
    "with open('test.txt','r') as f:\n",
    "    content = f.read()"
   ]
  },
  {
   "cell_type": "markdown",
   "metadata": {},
   "source": [
    "用with语句上下文管理器可以自动地管理文件的打开、关闭，不需手工干预。"
   ]
  },
  {
   "cell_type": "markdown",
   "metadata": {},
   "source": [
    "# else，不止是else"
   ]
  },
  {
   "cell_type": "markdown",
   "metadata": {},
   "source": [
    "### 普通用法"
   ]
  },
  {
   "cell_type": "code",
   "execution_count": 1,
   "metadata": {},
   "outputs": [
    {
     "name": "stdout",
     "output_type": "stream",
     "text": [
      "small\n"
     ]
    }
   ],
   "source": [
    "a = -1\n",
    "if a > 0:\n",
    "    print 'big'\n",
    "else:\n",
    "    print 'small'"
   ]
  },
  {
   "cell_type": "markdown",
   "metadata": {},
   "source": [
    "### 循环语句搭配else"
   ]
  },
  {
   "cell_type": "markdown",
   "metadata": {},
   "source": [
    "判断一个数是否是素数："
   ]
  },
  {
   "cell_type": "code",
   "execution_count": 4,
   "metadata": {},
   "outputs": [
    {
     "name": "stdout",
     "output_type": "stream",
     "text": [
      "97 is a prime!\n"
     ]
    }
   ],
   "source": [
    "import math\n",
    "n = 97\n",
    "for i in range(2,int(math.sqrt(n) + 2)):\n",
    "    if n % i == 0:\n",
    "        print '{0} is not a prime!'.format(n)\n",
    "        break\n",
    "else:\n",
    "    print '{0} is a prime!'.format(n)"
   ]
  },
  {
   "cell_type": "markdown",
   "metadata": {},
   "source": [
    "可见，如果循环中有break语句，且直到循环结束都没有执行过break语句，那么就会继续走后面的else分支。"
   ]
  },
  {
   "cell_type": "markdown",
   "metadata": {},
   "source": [
    "### 异常处理搭配else"
   ]
  },
  {
   "cell_type": "code",
   "execution_count": 8,
   "metadata": {},
   "outputs": [
    {
     "name": "stdout",
     "output_type": "stream",
     "text": [
      "integer division or modulo by zero\n"
     ]
    }
   ],
   "source": [
    "try:\n",
    "    print 1/0\n",
    "except Exception as msg:\n",
    "    print str(msg)\n",
    "else:\n",
    "    print 'all is OK!'"
   ]
  },
  {
   "cell_type": "code",
   "execution_count": 9,
   "metadata": {},
   "outputs": [
    {
     "name": "stdout",
     "output_type": "stream",
     "text": [
      "1\n",
      "all is OK!\n"
     ]
    }
   ],
   "source": [
    "try:\n",
    "    print 1/1\n",
    "except Exception as msg:\n",
    "    print str(msg)\n",
    "else:\n",
    "    print 'all is OK!'"
   ]
  },
  {
   "cell_type": "markdown",
   "metadata": {},
   "source": [
    "可见，如果没有发生异常，就会走else分支。"
   ]
  }
 ],
 "metadata": {
  "kernelspec": {
   "display_name": "Python 2",
   "language": "python",
   "name": "python2"
  },
  "language_info": {
   "codemirror_mode": {
    "name": "ipython",
    "version": 2
   },
   "file_extension": ".py",
   "mimetype": "text/x-python",
   "name": "python",
   "nbconvert_exporter": "python",
   "pygments_lexer": "ipython2",
   "version": "2.7.13"
  }
 },
 "nbformat": 4,
 "nbformat_minor": 2
}

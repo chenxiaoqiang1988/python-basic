{
 "cells": [
  {
   "cell_type": "markdown",
   "metadata": {},
   "source": [
    "# Python常用内置函数典型用法"
   ]
  },
  {
   "cell_type": "markdown",
   "metadata": {},
   "source": [
    "Python中有许多功能丰富的内置函数，本文基于Python 2.7，就常用的一些函数的典型用法做一些积累，不断更新中。"
   ]
  },
  {
   "cell_type": "markdown",
   "metadata": {},
   "source": [
    "# sorted函数的三种用法"
   ]
  },
  {
   "cell_type": "markdown",
   "metadata": {},
   "source": [
    "```python\n",
    "# coding:utf-8\n",
    "# sorted函数的三种用法\n",
    "from operator import itemgetter\n",
    "\n",
    "data1 = [{'aa':22,'bb':11},{'aa':12,'cc':23},{'aa':67,'dd':103}]\n",
    "data2 = [{'age':18,'name':'Tom'},{'age':10,'name':'Tim'},{'age':30,'name':'John'},{'age':18,'name':'Amy'}]\n",
    "\n",
    "def sort1():\n",
    "    # 对data1依据'aa'字段值的大小从小打到排序\n",
    "    ret = sorted(data1,key = lambda item:item['aa'])  # 注：如果这里的key写'bb'或'cc'，会报KeyError，因为这两个属性并不是每个元素都有的\n",
    "    print ret\n",
    "    # 输出：\n",
    "    '''\n",
    "    [{'aa': 12, 'cc': 23}, {'aa': 22, 'bb': 11}, {'aa': 67, 'dd': 103}]\n",
    "    '''\n",
    "\n",
    "def sort2():\n",
    "    # 对data1依据'aa'字段值的大小从小打到排序\n",
    "    ret = sorted(data1,cmp = lambda x,y:cmp(x['aa'],y['aa']))\n",
    "    print ret\n",
    "    # 输出：\n",
    "    '''\n",
    "    [{'aa': 12, 'cc': 23}, {'aa': 22, 'bb': 11}, {'aa': 67, 'dd': 103}]\n",
    "    '''\n",
    "\n",
    "def sort3():\n",
    "    # 使用itemgetter对data1依据'aa'字段值的大小从小打到排序\n",
    "    ret = sorted(data1,key = itemgetter('aa'))\n",
    "    print ret\n",
    "    # 输出：\n",
    "    '''\n",
    "    [{'aa': 12, 'cc': 23}, {'aa': 22, 'bb': 11}, {'aa': 67, 'dd': 103}]\n",
    "    '''\n",
    "\n",
    "def sort4():\n",
    "    # 对data2进行排序，先按照'age'从小到大排序，'age'相同的情况下，再按照'name'排序\n",
    "    ret = sorted(data2,key = itemgetter('age','name'))\n",
    "    print ret\n",
    "    # 输出：\n",
    "    '''\n",
    "    [{'age': 10, 'name': 'Tim'}, {'age': 18, 'name': 'Amy'}, {'age': 18, 'name': 'Tom'}, {'age': 30, 'name': 'John'}]\n",
    "    '''\n",
    "```"
   ]
  }
 ],
 "metadata": {
  "kernelspec": {
   "display_name": "Python 2",
   "language": "python",
   "name": "python2"
  },
  "language_info": {
   "codemirror_mode": {
    "name": "ipython",
    "version": 2
   },
   "file_extension": ".py",
   "mimetype": "text/x-python",
   "name": "python",
   "nbconvert_exporter": "python",
   "pygments_lexer": "ipython2",
   "version": "2.7.13"
  }
 },
 "nbformat": 4,
 "nbformat_minor": 2
}

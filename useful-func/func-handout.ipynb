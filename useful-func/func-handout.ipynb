{
 "cells": [
  {
   "cell_type": "markdown",
   "metadata": {},
   "source": [
    "# Python常用内置函数典型用法"
   ]
  },
  {
   "cell_type": "markdown",
   "metadata": {},
   "source": [
    "Python中有许多功能丰富的内置函数，本文基于Python 2.7，就常用的一些函数的典型用法做一些积累，不断更新中。"
   ]
  },
  {
   "cell_type": "markdown",
   "metadata": {},
   "source": [
    "# sorted函数的三种用法"
   ]
  },
  {
   "cell_type": "markdown",
   "metadata": {},
   "source": [
    "```python\n",
    "# coding:utf-8\n",
    "# sorted函数的三种用法\n",
    "from operator import itemgetter\n",
    "\n",
    "data1 = [{'aa':22,'bb':11},{'aa':12,'cc':23},{'aa':67,'dd':103}]\n",
    "data2 = [{'age':18,'name':'Tom'},{'age':10,'name':'Tim'},{'age':30,'name':'John'},{'age':18,'name':'Amy'}]\n",
    "\n",
    "def sort1():\n",
    "    # 对data1依据'aa'字段值的大小从小打到排序\n",
    "    ret = sorted(data1,key = lambda item:item['aa'])  # 注：如果这里的key写'bb'或'cc'，会报KeyError，因为这两个属性并不是每个元素都有的\n",
    "    print ret\n",
    "    # 输出：\n",
    "    '''\n",
    "    [{'aa': 12, 'cc': 23}, {'aa': 22, 'bb': 11}, {'aa': 67, 'dd': 103}]\n",
    "    '''\n",
    "\n",
    "def sort2():\n",
    "    # 对data1依据'aa'字段值的大小从小打到排序\n",
    "    ret = sorted(data1,cmp = lambda x,y:cmp(x['aa'],y['aa']))\n",
    "    print ret\n",
    "    # 输出：\n",
    "    '''\n",
    "    [{'aa': 12, 'cc': 23}, {'aa': 22, 'bb': 11}, {'aa': 67, 'dd': 103}]\n",
    "    '''\n",
    "\n",
    "def sort3():\n",
    "    # 使用itemgetter对data1依据'aa'字段值的大小从小打到排序\n",
    "    ret = sorted(data1,key = itemgetter('aa'))\n",
    "    print ret\n",
    "    # 输出：\n",
    "    '''\n",
    "    [{'aa': 12, 'cc': 23}, {'aa': 22, 'bb': 11}, {'aa': 67, 'dd': 103}]\n",
    "    '''\n",
    "\n",
    "def sort4():\n",
    "    # 对data2进行排序，先按照'age'从小到大排序，'age'相同的情况下，再按照'name'排序\n",
    "    ret = sorted(data2,key = itemgetter('age','name'))\n",
    "    print ret\n",
    "    # 输出：\n",
    "    '''\n",
    "    [{'age': 10, 'name': 'Tim'}, {'age': 18, 'name': 'Amy'}, {'age': 18, 'name': 'Tom'}, {'age': 30, 'name': 'John'}]\n",
    "    '''\n",
    "```"
   ]
  },
  {
   "cell_type": "markdown",
   "metadata": {},
   "source": [
    "# 执行命令行命令的三种方式"
   ]
  },
  {
   "cell_type": "markdown",
   "metadata": {},
   "source": [
    "```python\n",
    "# coding:utf-8\n",
    "# 执行命令行命令的三种方式\n",
    "import os\n",
    "import commands\n",
    "\n",
    "command = 'ls -al /root'\n",
    "\n",
    "def method1():\n",
    "    '''\n",
    "    方式1\n",
    "    '''\n",
    "    os.system(command)\n",
    "    # 执行结果：返回执行状态码\n",
    "\n",
    "def method2():\n",
    "    '''\n",
    "    方式2\n",
    "    '''\n",
    "    out1 = os.popen(command)\n",
    "    print out1.read()\n",
    "    # 输出：执行结果字符串\n",
    "\n",
    "def method3():\n",
    "    '''\n",
    "    方式3\n",
    "    '''\n",
    "    (status,out) = commands.getstatusoutput(command)\n",
    "    # 输出：status是执行状态码，out是执行结果字符串\n",
    "```"
   ]
  },
  {
   "cell_type": "markdown",
   "metadata": {},
   "source": [
    "# zip函数的用法"
   ]
  },
  {
   "cell_type": "markdown",
   "metadata": {},
   "source": [
    "```\n",
    "Docstring:\n",
    "zip(seq1 [, seq2 [...]]) -> [(seq1[0], seq2[0] ...), (...)]\n",
    "Return a list of tuples, where each tuple contains the i-th element\n",
    "from each of the argument sequences.  The returned list is truncated\n",
    "in length to the length of the shortest argument sequence.\n",
    "```"
   ]
  },
  {
   "cell_type": "markdown",
   "metadata": {},
   "source": [
    "先来看看zip函数的文档，从文档中可以看出，zip函数接收1个或多个序列作为参数，返回一个由元组组成的列表。"
   ]
  },
  {
   "cell_type": "markdown",
   "metadata": {},
   "source": [
    "结果列表的第i个元素是seq1~seqn的第i个元素组成的元组。"
   ]
  },
  {
   "cell_type": "markdown",
   "metadata": {},
   "source": [
    "结果列表的长度等于seq1~seqn中最短的序列的长度。"
   ]
  },
  {
   "cell_type": "markdown",
   "metadata": {},
   "source": [
    "一段测试代码如下："
   ]
  },
  {
   "cell_type": "markdown",
   "metadata": {},
   "source": [
    "```python\n",
    "# coding:utf-8\n",
    "\n",
    "def main():\n",
    "    a = '1234'\n",
    "    b = [4,6,7]\n",
    "\n",
    "    print zip()\n",
    "    # 输出：[]\n",
    "\n",
    "    print zip(a)\n",
    "    # 输出：[('1',), ('2',), ('3',), ('4',)]\n",
    "\n",
    "    print zip(a,a)\n",
    "    # 输出：[('1', '1'), ('2', '2'), ('3', '3'), ('4', '4')]\n",
    "\n",
    "    print zip(a,[])\n",
    "    # 输出：[]\n",
    "\n",
    "    print zip(a,b)\n",
    "    # 输出：[('1', 4), ('2', 6), ('3', 7)]\n",
    "\n",
    "if __name__ == '__main__':\n",
    "    main()\n",
    "```"
   ]
  },
  {
   "cell_type": "markdown",
   "metadata": {},
   "source": [
    "# map函数的用法"
   ]
  },
  {
   "cell_type": "markdown",
   "metadata": {},
   "source": [
    "map函数是一个高阶函数，支持传入一个函数作为参数。先来看它的文档是怎么说的："
   ]
  },
  {
   "cell_type": "markdown",
   "metadata": {},
   "source": [
    "```\n",
    "Docstring:\n",
    "map(function, sequence[, sequence, ...]) -> list\n",
    "Return a list of the results of applying the function to the items of\n",
    "the argument sequence(s).  If more than one sequence is given, the\n",
    "function is called with an argument list consisting of the corresponding\n",
    "item of each sequence, substituting None for missing values when not all\n",
    "sequences have the same length.  If the function is None, return a list of\n",
    "the items of the sequence (or a list of tuples if more than one sequence).\n",
    "```"
   ]
  },
  {
   "cell_type": "markdown",
   "metadata": {},
   "source": [
    "从map函数的文档中可以看出，该函数的第一个参数为一个函数对象，后面可以跟一个或多个序列，函数的返回值是一个list."
   ]
  },
  {
   "cell_type": "markdown",
   "metadata": {},
   "source": [
    "对比zip函数的用法，可以发现其实map函数就是一个增强版的zip函数，与zip函数不同的是，map函数支持传入一个函数参数来处理序列。"
   ]
  },
  {
   "cell_type": "markdown",
   "metadata": {},
   "source": [
    "如果第一个函数参数不为None，那么返回的结果list的第i个元素，是将该函数作用于每个序列的第i个元素的结果。如果传入的序列的长度不都是相同的，那么结果list的某些元素将会是None."
   ]
  },
  {
   "cell_type": "markdown",
   "metadata": {},
   "source": [
    "如果第一个函数参数为None，那么返回的的结果list的第i个元素，是每个序列第i个元素组成的n元组（n为序列的个数），如果每个序列的长度不都是相同的，那么结果list的某些元素将是None."
   ]
  },
  {
   "cell_type": "markdown",
   "metadata": {},
   "source": [
    "下面通过一段程序来看map函数的实际用法："
   ]
  },
  {
   "cell_type": "markdown",
   "metadata": {},
   "source": [
    "```python\n",
    "# coding:utf-8\n",
    "\n",
    "def main():\n",
    "    a = [1,2,3,4]\n",
    "    b = [3,5,9]\n",
    "    c = [8,2,3]\n",
    "    print map(None,a,b,c)\n",
    "    # 输出：[(1, 3, 8), (2, 5, 2), (3, 9, 3), (4, None, None)]\n",
    "\n",
    "    print map(lambda x : x ** 2,a)\n",
    "    # 输出：[1, 4, 9, 16]\n",
    "\n",
    "    # print map(lambda x,y : x + y,a)\n",
    "    # 输出：TypeError <lambda>() takes exactly 2 arguments (1 given)\n",
    "\n",
    "    print map(lambda x,y : x + y,b,c)\n",
    "    # 输出：[11, 7, 12]\n",
    "\n",
    "    # print map(lambda x,y,z : x + y + z,a,b,c)\n",
    "    # 输出：TypeError: unsupported operand type(s) for +: 'int' and 'NoneType'\n",
    "\n",
    "    print map(lambda x,y : x + y if x is not None and y is not None else None,a,b)\n",
    "    # 输出：[4, 7, 12, None]\n",
    "\n",
    "if __name__ == '__main__':\n",
    "    main()\n",
    "```"
   ]
  },
  {
   "cell_type": "markdown",
   "metadata": {},
   "source": [
    "# base64编解码"
   ]
  },
  {
   "cell_type": "markdown",
   "metadata": {},
   "source": [
    "```python\n",
    "# coding:utf-8\n",
    "# 测试base64编解码\n",
    "import base64\n",
    "\n",
    "def main():\n",
    "    s = '123abc'\n",
    "\n",
    "    # 编码\n",
    "    print base64.b64encode(s)\n",
    "    # 输出：MTIzYWJj\n",
    "\n",
    "    # 解码\n",
    "    print base64.b64decode('MTIzYWJj')\n",
    "    # 输出：123abc\n",
    "\n",
    "if __name__ == '__main__':\n",
    "    main()\n",
    "```"
   ]
  }
 ],
 "metadata": {
  "kernelspec": {
   "display_name": "Python 2",
   "language": "python",
   "name": "python2"
  },
  "language_info": {
   "codemirror_mode": {
    "name": "ipython",
    "version": 2
   },
   "file_extension": ".py",
   "mimetype": "text/x-python",
   "name": "python",
   "nbconvert_exporter": "python",
   "pygments_lexer": "ipython2",
   "version": "2.7.13"
  }
 },
 "nbformat": 4,
 "nbformat_minor": 2
}

{
 "cells": [
  {
   "cell_type": "markdown",
   "metadata": {},
   "source": [
    "# 如何用Python装饰器实现一个代码计时器？"
   ]
  },
  {
   "cell_type": "markdown",
   "metadata": {},
   "source": [
    "有时候我们很希望看到程序中某个函数或某个代码段的耗时情况，那么该如何办呢？本文用两种方式实现了函数计时器的功能，第一种方式是采用装饰器来实现，第二种方式采用上下文管理器实现。"
   ]
  },
  {
   "cell_type": "markdown",
   "metadata": {},
   "source": [
    "其实计算代码的运行时间，最朴素的想法就是先记录下来某段代码刚开始运行时的时间，等到运行完之后，再看一下结束时的时间，最后和开始运行时的时间求个差值，就是这段代码所花费的时间。"
   ]
  },
  {
   "cell_type": "markdown",
   "metadata": {},
   "source": [
    "下面两种计时器的实现方式就是用到这样一种非常简单的方法。"
   ]
  },
  {
   "cell_type": "markdown",
   "metadata": {},
   "source": [
    "# 用装饰器实现函数计时器"
   ]
  },
  {
   "cell_type": "markdown",
   "metadata": {},
   "source": [
    "```python\n",
    "# coding:utf-8\n",
    "from functools import wraps\n",
    "import time\n",
    "\n",
    "def func_timer(function):\n",
    "    '''\n",
    "    用装饰器实现函数计时\n",
    "    :param function: 需要计时的函数\n",
    "    :return: None\n",
    "    '''\n",
    "    @wraps(function)\n",
    "    def function_timer(*args, **kwargs):\n",
    "        print '[Function: {name} start...]'.format(name = function.__name__)\n",
    "        t0 = time.time()\n",
    "        result = function(*args, **kwargs)\n",
    "        t1 = time.time()\n",
    "        print '[Function: {name} finished, spent time: {time:.2f}s]'.format(name = function.__name__,time = t1 - t0)\n",
    "        return result\n",
    "    return function_timer\n",
    "\n",
    "@func_timer\n",
    "def test(x,y):\n",
    "    s = x + y\n",
    "    time.sleep(1.5)\n",
    "    print 'the sum is: {0}'.format(s)\n",
    "\n",
    "if __name__ == '__main__':\n",
    "    test(1,2)\n",
    "    # 输出结果\n",
    "    '''\n",
    "    [Function: test start...]\n",
    "    the sum is: 3\n",
    "    [Function: test finished, spent time: 1.50s]\n",
    "    '''\n",
    "```"
   ]
  },
  {
   "cell_type": "markdown",
   "metadata": {},
   "source": [
    "# 用上下文管理器实现代码段计时器"
   ]
  },
  {
   "cell_type": "markdown",
   "metadata": {},
   "source": [
    "上下文管理器其实是一个实现了`__enter__`和`__exit__`两个特殊方法的对象，可以用with语法调用。可以参照操作文件的`with oepn`操作，比如："
   ]
  },
  {
   "cell_type": "markdown",
   "metadata": {},
   "source": [
    "```python\n",
    "with open('data.txt','r') as fin:\n",
    "    data = fin.read()\n",
    "```"
   ]
  },
  {
   "cell_type": "markdown",
   "metadata": {},
   "source": [
    "使用with上下文管理器操作文件的好处就是，不用担心文件使用完之后忘记关闭，上下文管理器会自动帮你关闭。"
   ]
  },
  {
   "cell_type": "markdown",
   "metadata": {},
   "source": [
    "那么下面就用上下文管理器来实现一个代码段计时器："
   ]
  },
  {
   "cell_type": "markdown",
   "metadata": {},
   "source": [
    "```python\n",
    "# coding:utf-8\n",
    "from functools import wraps\n",
    "import time\n",
    "\n",
    "class MyTimer(object):\n",
    "    '''\n",
    "    用上下文管理器计时\n",
    "    '''\n",
    "    def __enter__(self):\n",
    "        self.t0 = time.time()\n",
    "\n",
    "    def __exit__(self, exc_type, exc_val, exc_tb):\n",
    "        print '[finished, spent time: {time:.2f}s]'.format(time = time.time() - self.t0)\n",
    "\n",
    "def test(x,y):\n",
    "    s = x + y\n",
    "    time.sleep(1.5)\n",
    "    print 'the sum is: {0}'.format(s)\n",
    "\n",
    "if __name__ == '__main__':\n",
    "    with MyTimer() as t:\n",
    "        test(1,2)\n",
    "        time.sleep(1)\n",
    "        print 'do other things'\n",
    "    # 输出：\n",
    "    '''\n",
    "    the sum is: 3\n",
    "    do other things\n",
    "    [finished, spent time: 2.53s]\n",
    "    '''\n",
    "```"
   ]
  },
  {
   "cell_type": "markdown",
   "metadata": {},
   "source": [
    "# 总结"
   ]
  },
  {
   "cell_type": "markdown",
   "metadata": {},
   "source": [
    "可以看出，上述两种计时器的实现方式各有优缺点，用装饰器实现的计时器优点是使用起来非常方便，给要计时的函数加一个装饰器即可，但不足之处是无法对一个代码片段进行计时。而用上下文管理器实现的计时器就可以对任意一个代码段进行计时，弥补了装饰器计时器的缺陷。"
   ]
  },
  {
   "cell_type": "markdown",
   "metadata": {},
   "source": [
    "具体用哪种计时器，还是要根据实际情况来选择。"
   ]
  }
 ],
 "metadata": {
  "kernelspec": {
   "display_name": "Python 2",
   "language": "python",
   "name": "python2"
  },
  "language_info": {
   "codemirror_mode": {
    "name": "ipython",
    "version": 2
   },
   "file_extension": ".py",
   "mimetype": "text/x-python",
   "name": "python",
   "nbconvert_exporter": "python",
   "pygments_lexer": "ipython2",
   "version": "2.7.13"
  }
 },
 "nbformat": 4,
 "nbformat_minor": 2
}

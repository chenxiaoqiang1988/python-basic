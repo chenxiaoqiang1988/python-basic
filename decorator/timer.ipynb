{
 "cells": [
  {
   "cell_type": "markdown",
   "metadata": {},
   "source": [
    "# python用装饰器实现一个计时器"
   ]
  },
  {
   "cell_type": "markdown",
   "metadata": {},
   "source": [
    "直接上代码："
   ]
  },
  {
   "cell_type": "code",
   "execution_count": 4,
   "metadata": {},
   "outputs": [
    {
     "name": "stdout",
     "output_type": "stream",
     "text": [
      "start to download from www.baidu.com...\n",
      "download finished!\n",
      "[finished download in 3.00s]\n"
     ]
    }
   ],
   "source": [
    "import time\n",
    "from functools import wraps\n",
    "\n",
    "# 定义装饰器\n",
    "def fn_timer(function):\n",
    "    @wraps(function)\n",
    "    def function_timer(*args,**kwargs):\n",
    "        t0 = time.time()\n",
    "        result = function(*args,**kwargs)\n",
    "        t1 = time.time()\n",
    "        print '[finished {func_name} in {time:.2f}s]'.format(func_name = function.__name__,time = t1 - t0)\n",
    "        return result\n",
    "    return function_timer\n",
    "\n",
    "# 使用装饰器来计时\n",
    "@fn_timer\n",
    "def download(url):\n",
    "    # 模拟下载3秒\n",
    "    print 'start to download from {0}...'.format(url)\n",
    "    time.sleep(3)\n",
    "    print 'download finished!'\n",
    "\n",
    "download('www.baidu.com')"
   ]
  }
 ],
 "metadata": {
  "kernelspec": {
   "display_name": "Python 2",
   "language": "python",
   "name": "python2"
  },
  "language_info": {
   "codemirror_mode": {
    "name": "ipython",
    "version": 2
   },
   "file_extension": ".py",
   "mimetype": "text/x-python",
   "name": "python",
   "nbconvert_exporter": "python",
   "pygments_lexer": "ipython2",
   "version": "2.7.13"
  }
 },
 "nbformat": 4,
 "nbformat_minor": 2
}

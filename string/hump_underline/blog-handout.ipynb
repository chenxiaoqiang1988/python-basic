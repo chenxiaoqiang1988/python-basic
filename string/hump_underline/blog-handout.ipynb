{
 "cells": [
  {
   "cell_type": "markdown",
   "metadata": {},
   "source": [
    "# 聊一聊\"驼峰\"和\"下划线\"——Python re.sub函数详细用法实例讲解"
   ]
  },
  {
   "cell_type": "markdown",
   "metadata": {},
   "source": [
    "日常写代码时候会遇到一些字符串替换的操作，比如把一大堆\"驼峰\"形式的字符串批量转换成下划线形式。\"驼峰\"形式的变量命名风格在Java中很常见，而下划线形式的变量命名风格在C、Python等语言的代码中更常见一些，两者没有严格的好坏区分。本文就用\"驼峰\"和\"下划线\"相互转换的实例，讲解一下Python的re模块sub函数的强大功能。"
   ]
  },
  {
   "cell_type": "markdown",
   "metadata": {},
   "source": [
    "# 什么是\"驼峰\"和\"下划线\"风格的字符串"
   ]
  },
  {
   "cell_type": "markdown",
   "metadata": {},
   "source": [
    "变量名、函数名等标识符的多个单词之间用下划线隔开，这样的字符串就是下划线风格的字符串，比如："
   ]
  },
  {
   "cell_type": "markdown",
   "metadata": {},
   "source": [
    "```\n",
    "person_info\n",
    "ipv6_address\n",
    "book_id\n",
    "get_tomorrow_weather()\n",
    "```"
   ]
  },
  {
   "cell_type": "markdown",
   "metadata": {},
   "source": [
    "而驼峰风格的字符串就是不同单词之间用大写字母进行分隔，比如："
   ]
  },
  {
   "cell_type": "markdown",
   "metadata": {},
   "source": [
    "```\n",
    "personInfo\n",
    "ipv6Address\n",
    "bookId\n",
    "getTomorrowWeather()\n",
    "```"
   ]
  },
  {
   "cell_type": "markdown",
   "metadata": {},
   "source": [
    "# re.sub函数"
   ]
  },
  {
   "cell_type": "markdown",
   "metadata": {},
   "source": [
    "re.sub函数是Python内置的re模块的一个字符串替换函数，支持正则替换。函数文档如下："
   ]
  },
  {
   "cell_type": "markdown",
   "metadata": {},
   "source": [
    "```\n",
    "help(re.sub)\n",
    "Help on function sub in module re:\n",
    "sub(pattern, repl, string, count=0, flags=0)\n",
    "    Return the string obtained by replacing the leftmost\n",
    "    non-overlapping occurrences of the pattern in string by the\n",
    "    replacement repl.  repl can be either a string or a callable;\n",
    "    if a string, backslash escapes in it are processed.  If it is\n",
    "    a callable, it's passed the match object and must return\n",
    "    a replacement string to be used.\n",
    "```"
   ]
  },
  {
   "cell_type": "markdown",
   "metadata": {},
   "source": [
    "re.sub函数的函数原型为：`sub(pattern, repl, string, count=0, flags=0)`"
   ]
  },
  {
   "cell_type": "markdown",
   "metadata": {},
   "source": [
    "下面简单介绍一下每个参数的含义："
   ]
  },
  {
   "cell_type": "markdown",
   "metadata": {},
   "source": [
    "* pattern：是一个正则表达式，匹配要替换的子串。"
   ]
  },
  {
   "cell_type": "markdown",
   "metadata": {},
   "source": [
    "* repl：可以是一个字符串，支持对pattern中分组的后向引用。注意到文档的最后一句话："
   ]
  },
  {
   "cell_type": "markdown",
   "metadata": {},
   "source": [
    "> If it is a callable, it's passed the match object and must return a replacement string to be used."
   ]
  },
  {
   "cell_type": "markdown",
   "metadata": {},
   "source": [
    "可见，repl也可以是一个callable对象（函数），这个函数的入参为pattern正则匹配到的对象，返回值为一个字符串，表示要替换成的字符串。"
   ]
  },
  {
   "cell_type": "markdown",
   "metadata": {},
   "source": [
    "注：正则的分组及后向引用详见：[python正则表达式系列（4）——分组和后向引用](http://www.cnblogs.com/jiayongji/p/7118967.html)"
   ]
  },
  {
   "cell_type": "markdown",
   "metadata": {},
   "source": [
    "* string：要进行替换操作的字符串。"
   ]
  },
  {
   "cell_type": "markdown",
   "metadata": {},
   "source": [
    "* count：要替换掉多少个子串（按从左到右的顺序），默认值为0，表示替换能被pattern匹配到的所有子串。"
   ]
  },
  {
   "cell_type": "markdown",
   "metadata": {},
   "source": [
    "* flags：正则内置属性，默认值为0，表示不使用任何内置属性。"
   ]
  },
  {
   "cell_type": "markdown",
   "metadata": {},
   "source": [
    "注：正则内置属性的用法详见：[python正则表达式系列（3）——正则内置属性](http://www.cnblogs.com/jiayongji/p/7118950.html)"
   ]
  },
  {
   "cell_type": "markdown",
   "metadata": {},
   "source": [
    "# \"驼峰\"和\"下划线\"字符串之间的相互转换"
   ]
  },
  {
   "cell_type": "markdown",
   "metadata": {},
   "source": [
    "通过对re.sub函数的深入了解，现在应该可以轻松写出\"驼峰\"和\"下划线\"字符串相互转换的代码了。直接上代码："
   ]
  },
  {
   "cell_type": "markdown",
   "metadata": {},
   "source": [
    "```python\n",
    "# coding:utf-8\n",
    "import re\n",
    "\n",
    "def hump2underline(hunp_str):\n",
    "    '''\n",
    "    驼峰形式字符串转成下划线形式\n",
    "    :param hunp_str: 驼峰形式字符串\n",
    "    :return: 字母全小写的下划线形式字符串\n",
    "    '''\n",
    "    # 匹配正则，匹配小写字母和大写字母的分界位置\n",
    "    p = re.compile(r'([a-z]|\\d)([A-Z])')\n",
    "    # 这里第二个参数使用了正则分组的后向引用\n",
    "    sub = re.sub(p, r'\\1_\\2', hunp_str).lower()\n",
    "    return sub\n",
    "\n",
    "def underline2hump(underline_str):\n",
    "    '''\n",
    "    下划线形式字符串转成驼峰形式\n",
    "    :param underline_str: 下划线形式字符串\n",
    "    :return: 驼峰形式字符串\n",
    "    '''\n",
    "    # 这里re.sub()函数第二个替换参数用到了一个匿名回调函数，回调函数的参数x为一个匹配对象，返回值为一个处理后的字符串\n",
    "    sub = re.sub(r'(_\\w)',lambda x:x.group(1)[1].upper(),underline_str)\n",
    "    return sub\n",
    "```"
   ]
  },
  {
   "cell_type": "markdown",
   "metadata": {},
   "source": [
    "代码中已经有详细的注释，还是比较好理解的。下面对这两个函数进行测试："
   ]
  },
  {
   "cell_type": "markdown",
   "metadata": {},
   "source": [
    "```python\n",
    "def test_hump2underline():\n",
    "    # 供测试用的一些驼峰形式的字符串\n",
    "    attr1 = 'PersonNamePattern'\n",
    "    attr2 = 'IPv6Address'\n",
    "    attr3 = 'personDetailInfo'\n",
    "    attr4 = 'CCTV'\n",
    "    attr5 = 'CCTVAddress'\n",
    "    attr6 = 'name'\n",
    "    attrs = [attr1,attr2,attr3,attr4,attr5,attr6]\n",
    "\n",
    "    # 遍历attrs进行匹配和转换，把驼峰形式的字符串转成下划线形式\n",
    "    for attr in attrs:\n",
    "        sub = hump2underline(attr)\n",
    "        print sub\n",
    "\n",
    "    # 输出：\n",
    "    '''\n",
    "    person_name_pattern\n",
    "    ipv6_address\n",
    "    person_detail_info\n",
    "    cctv\n",
    "    cctvaddress\n",
    "    name\n",
    "    '''\n",
    "\n",
    "def test_underline2hump():\n",
    "    attr1 = 'person_name_pattern'\n",
    "    attr2 = 'ipv6_address'\n",
    "    attr3 = 'person_detail_info'\n",
    "    attr4 = 'cctv'\n",
    "    attr5 = 'cctvaddress'\n",
    "    attr6 = 'name'\n",
    "    attrs = [attr1, attr2, attr3, attr4, attr5, attr6]\n",
    "\n",
    "    for attr in attrs:\n",
    "        sub = underline2hump(attr)\n",
    "        print sub\n",
    "\n",
    "    # 输出：\n",
    "    '''\n",
    "    personNamePattern\n",
    "    ipv6Address\n",
    "    personDetailInfo\n",
    "    cctv\n",
    "    cctvaddress\n",
    "    name\n",
    "    '''\n",
    "```"
   ]
  },
  {
   "cell_type": "markdown",
   "metadata": {},
   "source": [
    "# JSON字符串字段名的\"驼峰\"转\"下划线\""
   ]
  },
  {
   "cell_type": "markdown",
   "metadata": {},
   "source": [
    "JSON是一种非常通用、轻量型的数据交换格式，与Python中的字典、Java中的Map具有相同的结构。JSON中的字段名一般需要写成下划线的形式，但是有时候也会遇到字段名是\"驼峰\"形式的JSON文本，那么如何把一个JSON字符串中的所有字段名都从驼峰形式替换成下划线形式呢？"
   ]
  },
  {
   "cell_type": "markdown",
   "metadata": {},
   "source": [
    "因为考虑到json可能具有多层嵌套的复杂结构，所以下面直接采用正则文本替换的方式进行处理，而不是采用把JSON字符串转成字典再进行处理。"
   ]
  },
  {
   "cell_type": "markdown",
   "metadata": {},
   "source": [
    "上代码："
   ]
  },
  {
   "cell_type": "markdown",
   "metadata": {},
   "source": [
    "```python\n",
    "def json_hump2underline(hump_json_str):\n",
    "    '''\n",
    "    把一个json字符串中的所有字段名都从驼峰形式替换成下划线形式。\n",
    "    注意点：因为考虑到json可能具有多层嵌套的复杂结构，所以这里直接采用正则文本替换的方式进行处理，而不是采用把json转成字典再进行处理的方式\n",
    "    :param hump_json_str: 字段名为驼峰形式的json字符串\n",
    "    :return: 字段名为下划线形式的json字符串\n",
    "    '''\n",
    "    # 从json字符串中匹配字段名的正则\n",
    "    # 注：这里的字段名只考虑由英文字母、数字、下划线组成\n",
    "    attr_ptn = re.compile(r'\"\\s*(\\w+)\\s*\"\\s*:')\n",
    "\n",
    "    # 使用hump2underline函数作为re.sub函数第二个参数的回调函数\n",
    "    sub = re.sub(attr_ptn,lambda x : '\"' + hump2underline(x.group(1)) + '\" :',hump_json_str)\n",
    "    return sub\n",
    "```"
   ]
  },
  {
   "cell_type": "markdown",
   "metadata": {},
   "source": [
    "对上面这个函数进行测试："
   ]
  },
  {
   "cell_type": "markdown",
   "metadata": {},
   "source": [
    "```python\n",
    "def test_json_hump2underline():\n",
    "    # 待测试json字符串\n",
    "    json_str = '''\n",
    "    {\n",
    "        \"englishName\":\"Tom\",\n",
    "        \"age\":18,\n",
    "        \"detailInfoTable\": {\n",
    "            \"address\":\"USA\",\n",
    "            \"sportsHobby\": [\"Basketball\",\"Football\",\"Swimming\"],\n",
    "            \"contactList\":{\n",
    "                \"tel\" : \"1234567\",\n",
    "                \"emailAddress\":\"tom@test.com\"\n",
    "            }\n",
    "        },\n",
    "        \"gender\":\"male\"\n",
    "    }\n",
    "    '''\n",
    "    print json_hump2underline(json_str)\n",
    "\n",
    "    # 输出：\n",
    "    '''\n",
    "    {\n",
    "        \"english_name\" :\"Tom\",\n",
    "        \"age\" :18,\n",
    "        \"detail_info_table\" : {\n",
    "            \"address\" :\"USA\",\n",
    "            \"sports_hobby\" : [\"Basketball\",\"Football\",\"Swimming\"],\n",
    "            \"contact_list\" :{\n",
    "                \"tel\" : \"1234567\",\n",
    "                \"email_address\" :\"tom@test.com\"\n",
    "            }\n",
    "        },\n",
    "        \"gender\" :\"male\"\n",
    "    }\n",
    "    '''\n",
    "```"
   ]
  },
  {
   "cell_type": "markdown",
   "metadata": {},
   "source": [
    "# 总结"
   ]
  },
  {
   "cell_type": "markdown",
   "metadata": {},
   "source": [
    "经过以上实例可以看出，re.sub函数因为支持了正则替换及回调函数替换，在处理复杂文本替换需求时具有强大的优势，再一次展现了Python在文本处理领域功能强大又简单、易用的特点。"
   ]
  }
 ],
 "metadata": {
  "kernelspec": {
   "display_name": "Python 2",
   "language": "python",
   "name": "python2"
  },
  "language_info": {
   "codemirror_mode": {
    "name": "ipython",
    "version": 2
   },
   "file_extension": ".py",
   "mimetype": "text/x-python",
   "name": "python",
   "nbconvert_exporter": "python",
   "pygments_lexer": "ipython2",
   "version": "2.7.13"
  }
 },
 "nbformat": 4,
 "nbformat_minor": 2
}

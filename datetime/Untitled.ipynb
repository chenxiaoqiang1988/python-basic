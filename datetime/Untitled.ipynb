{
 "cells": [
  {
   "cell_type": "markdown",
   "metadata": {},
   "source": [
    "# python日期和时间的处理"
   ]
  },
  {
   "cell_type": "markdown",
   "metadata": {},
   "source": [
    "总结一下python中对日期和时间的常用处理方法。"
   ]
  },
  {
   "cell_type": "markdown",
   "metadata": {},
   "source": [
    "# 准备"
   ]
  },
  {
   "cell_type": "code",
   "execution_count": 1,
   "metadata": {
    "collapsed": true
   },
   "outputs": [],
   "source": [
    "import time,datetime"
   ]
  },
  {
   "cell_type": "markdown",
   "metadata": {},
   "source": [
    "# 常用操作"
   ]
  },
  {
   "cell_type": "markdown",
   "metadata": {},
   "source": [
    "### 输出当前的日期时间"
   ]
  },
  {
   "cell_type": "markdown",
   "metadata": {},
   "source": [
    "方式一："
   ]
  },
  {
   "cell_type": "code",
   "execution_count": 5,
   "metadata": {},
   "outputs": [
    {
     "name": "stdout",
     "output_type": "stream",
     "text": [
      "【Output】\n",
      "<type 'time.struct_time'>\n",
      "time.struct_time(tm_year=2017, tm_mon=8, tm_mday=21, tm_hour=23, tm_min=15, tm_sec=42, tm_wday=0, tm_yday=233, tm_isdst=0)\n",
      "(2017, 8, 21)\n"
     ]
    }
   ],
   "source": [
    "now = time.localtime()\n",
    "\n",
    "print '【Output】'\n",
    "print type(now)\n",
    "print now\n",
    "print now[:3]"
   ]
  },
  {
   "cell_type": "markdown",
   "metadata": {},
   "source": [
    "输出当前时间戳（单位：秒）："
   ]
  },
  {
   "cell_type": "code",
   "execution_count": 9,
   "metadata": {},
   "outputs": [
    {
     "name": "stdout",
     "output_type": "stream",
     "text": [
      "【Output】\n",
      "1503329021.99\n"
     ]
    }
   ],
   "source": [
    "print '【Output】'\n",
    "print time.time()"
   ]
  },
  {
   "cell_type": "markdown",
   "metadata": {},
   "source": [
    "方式二："
   ]
  },
  {
   "cell_type": "code",
   "execution_count": 10,
   "metadata": {},
   "outputs": [
    {
     "name": "stdout",
     "output_type": "stream",
     "text": [
      "【Output】\n",
      "2017-08-21 23:23:46\n"
     ]
    }
   ],
   "source": [
    "now = datetime.datetime.now()\n",
    "print '【Output】'\n",
    "print now.strftime('%Y-%m-%d %H:%M:%S')"
   ]
  },
  {
   "cell_type": "markdown",
   "metadata": {},
   "source": [
    "### 格式化输出当前时间"
   ]
  },
  {
   "cell_type": "code",
   "execution_count": 7,
   "metadata": {},
   "outputs": [
    {
     "name": "stdout",
     "output_type": "stream",
     "text": [
      "【Output】\n",
      "2017-08-21 23:17:57\n",
      "2017-08-21 23:17:59\n"
     ]
    }
   ],
   "source": [
    "t = time.localtime()\n",
    "print '【Output】'\n",
    "print time.strftime('%Y-%m-%d %H:%M:%S',t)\n",
    "time.sleep(2)\n",
    "print time.strftime('%Y-%m-%d %H:%M:%S')  # 如果不指定时间，输出的就是当前时间"
   ]
  },
  {
   "cell_type": "markdown",
   "metadata": {},
   "source": [
    "附：格式化字符串总结"
   ]
  },
  {
   "cell_type": "markdown",
   "metadata": {},
   "source": [
    "* %a  英文星期简称\n",
    "* %A  英文星期全称\n",
    "* %b  英文月份简称\n",
    "* %B  英文月份全称\n",
    "* %c  本地日期时间\n",
    "* %d  日期，1~31\n",
    "* %H  小时，0~23\n",
    "* %I  小时，0~12\n",
    "* %m  月，01~12\n",
    "* %M  分钟，0~59\n",
    "* %S  秒，0~59\n",
    "* %j  年中当天的天数\n",
    "* %w  星期数，1~7\n",
    "* %W  年中的第几周\n",
    "* %x  当天日期，格式：01/31/17\n",
    "* %X  本地的当天时间\n",
    "* %y  年份，00~99\n",
    "* %Y  年份完整拼写"
   ]
  },
  {
   "cell_type": "markdown",
   "metadata": {},
   "source": [
    "### 字符串转为日期时间对象"
   ]
  },
  {
   "cell_type": "code",
   "execution_count": 16,
   "metadata": {},
   "outputs": [
    {
     "name": "stdout",
     "output_type": "stream",
     "text": [
      "【Output】\n",
      "<type 'time.struct_time'>\n",
      "time.struct_time(tm_year=2000, tm_mon=1, tm_mday=1, tm_hour=10, tm_min=0, tm_sec=0, tm_wday=5, tm_yday=1, tm_isdst=-1)\n"
     ]
    }
   ],
   "source": [
    "t = time.strptime('2000-1-1 10:00','%Y-%m-%d %H:%M')  # 注：前后格式要保持一致，否则转换会出错\n",
    "print '【Output】'\n",
    "print type(t)\n",
    "print t"
   ]
  },
  {
   "cell_type": "markdown",
   "metadata": {},
   "source": [
    "### 构造datetime对象"
   ]
  },
  {
   "cell_type": "code",
   "execution_count": 18,
   "metadata": {},
   "outputs": [
    {
     "name": "stdout",
     "output_type": "stream",
     "text": [
      "【Output】\n",
      "<type 'datetime.datetime'>\n",
      "2010-01-01 23:00:00\n"
     ]
    }
   ],
   "source": [
    "dt = datetime.datetime(2010,1,1,23)\n",
    "print '【Output】'\n",
    "print type(dt)\n",
    "print dt"
   ]
  },
  {
   "cell_type": "markdown",
   "metadata": {},
   "source": [
    "### 将struct_time对象转为时间戳（秒）"
   ]
  },
  {
   "cell_type": "code",
   "execution_count": 20,
   "metadata": {},
   "outputs": [
    {
     "name": "stdout",
     "output_type": "stream",
     "text": [
      "【Output】\n",
      "1503329307.0\n"
     ]
    }
   ],
   "source": [
    "now = time.localtime()\n",
    "timestamp = time.mktime(now)\n",
    "print '【Output】'\n",
    "print timestamp"
   ]
  },
  {
   "cell_type": "markdown",
   "metadata": {},
   "source": [
    "### 将时间戳（秒）转为struct_time对象"
   ]
  },
  {
   "cell_type": "code",
   "execution_count": 21,
   "metadata": {},
   "outputs": [
    {
     "name": "stdout",
     "output_type": "stream",
     "text": [
      "【Output】\n",
      "time.struct_time(tm_year=2016, tm_mon=11, tm_mday=24, tm_hour=23, tm_min=6, tm_sec=40, tm_wday=3, tm_yday=329, tm_isdst=0)\n"
     ]
    }
   ],
   "source": [
    "timestamp = 1480000000\n",
    "print '【Output】'\n",
    "print time.localtime(timestamp)"
   ]
  },
  {
   "cell_type": "code",
   "execution_count": null,
   "metadata": {
    "collapsed": true
   },
   "outputs": [],
   "source": []
  }
 ],
 "metadata": {
  "kernelspec": {
   "display_name": "Python 2",
   "language": "python",
   "name": "python2"
  },
  "language_info": {
   "codemirror_mode": {
    "name": "ipython",
    "version": 2
   },
   "file_extension": ".py",
   "mimetype": "text/x-python",
   "name": "python",
   "nbconvert_exporter": "python",
   "pygments_lexer": "ipython2",
   "version": "2.7.13"
  }
 },
 "nbformat": 4,
 "nbformat_minor": 2
}

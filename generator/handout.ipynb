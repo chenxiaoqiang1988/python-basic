{
 "cells": [
  {
   "cell_type": "markdown",
   "metadata": {},
   "source": [
    "# python生成器"
   ]
  },
  {
   "cell_type": "markdown",
   "metadata": {},
   "source": [
    "本文讲解一下python生成器的基本用法。"
   ]
  },
  {
   "cell_type": "markdown",
   "metadata": {},
   "source": [
    "# 生成器的使用场景"
   ]
  },
  {
   "cell_type": "markdown",
   "metadata": {},
   "source": [
    "当数据量很大的时候，比如从一个超大文本文件中读取内容，如果一下子把数据全部放在列表中，相当于一下子把大量数据放在了内存中，有可能造成内存溢出。那么如何解决呢？"
   ]
  },
  {
   "cell_type": "markdown",
   "metadata": {},
   "source": [
    "解决方案：不存储所有的数据，而是存储列表元素的生成算法（相当于递推公式），只在使用的时候再根据生成算法生成相应的元素（惰性计算），这就是生成器。"
   ]
  },
  {
   "cell_type": "markdown",
   "metadata": {},
   "source": [
    "# 创建生成器的方式"
   ]
  },
  {
   "cell_type": "markdown",
   "metadata": {},
   "source": [
    "### 把列表生成式的中括号改为小括号"
   ]
  },
  {
   "cell_type": "code",
   "execution_count": 8,
   "metadata": {},
   "outputs": [
    {
     "name": "stdout",
     "output_type": "stream",
     "text": [
      "【Output】\n",
      "<type 'generator'>\n",
      "0\n",
      "-----\n",
      "1\n",
      "2\n"
     ]
    }
   ],
   "source": [
    "a = (x for x in range(3))\n",
    "print '【Output】'\n",
    "print type(a)\n",
    "print a.next()\n",
    "print '-----'\n",
    "for x in a:\n",
    "    print x"
   ]
  },
  {
   "cell_type": "markdown",
   "metadata": {},
   "source": [
    "### 用yield关键字"
   ]
  },
  {
   "cell_type": "markdown",
   "metadata": {},
   "source": [
    "如果生成器的递推算法比较复杂，列表生成式的方式已经无法满足要求，那么可以用函数+yield关键字的方式来创建生成器。"
   ]
  },
  {
   "cell_type": "markdown",
   "metadata": {},
   "source": [
    "如果一个函数中出现了yield关键字，那么这个函数就不再是一个普通函数了，而变成了一个生成器，例如："
   ]
  },
  {
   "cell_type": "code",
   "execution_count": 4,
   "metadata": {},
   "outputs": [
    {
     "name": "stdout",
     "output_type": "stream",
     "text": [
      "【Output】\n",
      "<type 'generator'>\n",
      "0\n",
      "1\n",
      "2\n"
     ]
    }
   ],
   "source": [
    "def getNum(max):\n",
    "    x = 0\n",
    "    while x < max:\n",
    "        yield x  # 相当于把普通函数的return语句变成了yield语句\n",
    "        x += 1\n",
    "a = getNum(3)\n",
    "\n",
    "print '【Output】'\n",
    "print type(a)\n",
    "for x in a:\n",
    "    print x"
   ]
  },
  {
   "cell_type": "markdown",
   "metadata": {},
   "source": [
    "### 函数遇到yield就中断的特性"
   ]
  },
  {
   "cell_type": "code",
   "execution_count": 5,
   "metadata": {},
   "outputs": [
    {
     "name": "stdout",
     "output_type": "stream",
     "text": [
      "【Output】\n",
      "step0\n",
      "0\n",
      "step1\n",
      "1\n",
      "step2\n",
      "2\n",
      "111\n",
      "step10\n",
      "10\n",
      "step11\n",
      "11\n",
      "222\n"
     ]
    }
   ],
   "source": [
    "def get():\n",
    "    for i in range(3):\n",
    "        print 'step' + str(i)\n",
    "        yield i\n",
    "    yield 111\n",
    "    \n",
    "    for i in range(10,12):\n",
    "        print 'step' + str(i)\n",
    "        yield i\n",
    "    yield 222\n",
    "\n",
    "a = get()\n",
    "print '【Output】'\n",
    "for x in a:\n",
    "    print x"
   ]
  },
  {
   "cell_type": "markdown",
   "metadata": {},
   "source": [
    "# 生成器的应用：生成斐波那契数列"
   ]
  },
  {
   "cell_type": "code",
   "execution_count": 6,
   "metadata": {
    "scrolled": true
   },
   "outputs": [
    {
     "name": "stdout",
     "output_type": "stream",
     "text": [
      "【Output】\n",
      "1\n",
      "1\n",
      "2\n",
      "3\n",
      "5\n",
      "8\n"
     ]
    }
   ],
   "source": [
    "def fib(max):\n",
    "    a,m,n = 0,1,1\n",
    "    while(a < max):\n",
    "        yield m\n",
    "        m,n = n,m+n\n",
    "        a += 1\n",
    "print '【Output】'\n",
    "for x in fib(6):\n",
    "    print x"
   ]
  }
 ],
 "metadata": {
  "kernelspec": {
   "display_name": "Python 2",
   "language": "python",
   "name": "python2"
  },
  "language_info": {
   "codemirror_mode": {
    "name": "ipython",
    "version": 2
   },
   "file_extension": ".py",
   "mimetype": "text/x-python",
   "name": "python",
   "nbconvert_exporter": "python",
   "pygments_lexer": "ipython2",
   "version": "2.7.13"
  }
 },
 "nbformat": 4,
 "nbformat_minor": 2
}

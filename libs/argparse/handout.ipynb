{
 "cells": [
  {
   "cell_type": "markdown",
   "metadata": {},
   "source": [
    "# 命令行参数解析模块argparse的用法"
   ]
  },
  {
   "cell_type": "markdown",
   "metadata": {},
   "source": [
    "argparse是python内置的命令行参数解析模块，可以用来为程序配置功能丰富的命令行参数，方便使用，本文总结一下其基本用法。"
   ]
  },
  {
   "cell_type": "markdown",
   "metadata": {},
   "source": [
    "## 测试脚本"
   ]
  },
  {
   "cell_type": "markdown",
   "metadata": {},
   "source": [
    "把以下脚本存在argtest.py文件中："
   ]
  },
  {
   "cell_type": "markdown",
   "metadata": {},
   "source": [
    "```python\n",
    "# coding:utf-8\n",
    "# 测试argparse模块的基本用法\n",
    "import argparse\n",
    "\n",
    "# 创建参数解析对象，并添加脚本用法帮助\n",
    "parser = argparse.ArgumentParser(description = 'test the base usage of argparse.')\n",
    "\n",
    "# 添加位置参数\n",
    "# 所谓位置参数，就是指直接添加的参数而不用使用'-'、'--'等符号\n",
    "# 添加了位置参数，它就是必选参数\n",
    "parser.add_argument('arg0')\n",
    "\n",
    "# 添加可选参数，但如果执行命令时带有该参数，后面必须跟参数值\n",
    "# '-'后面跟短参数，'--'后面跟长参数\n",
    "# help参数为该参数的帮助信息\n",
    "parser.add_argument('-a1','--arg1',help = 'this is arg1')\n",
    "\n",
    "# 添加可选参数，但后面不能跟参数值\n",
    "parser.add_argument('-a2','--arg2',help = 'this is arg2',action = 'store_true')\n",
    "\n",
    "# 添加可选参数并指定参数值数据类型为整型，且数据范围为[0,1,2]，且指定默认值为0,如果输入的值不是整型或值不在要求的范围内，则会报错\n",
    "parser.add_argument('-a3','--arg3',type = int,choices = [0,1,2],default = 0,help = 'this is arg3')\n",
    "\n",
    "# 添加一组可选的互斥参数\n",
    "# a4和a5参数不能同时出现，否则会报错\n",
    "group = parser.add_mutually_exclusive_group()\n",
    "group.add_argument('-a4','--arg4',action = 'store_true')\n",
    "group.add_argument('-a5','--arg5',action = 'store_true')\n",
    "\n",
    "#####################################\n",
    "\n",
    "# 执行解析参数\n",
    "args = parser.parse_args()\n",
    "\n",
    "# 打印出位置参数'arg0'\n",
    "print 'arg0 is: ',args.arg0\n",
    "\n",
    "# 打印出其他位置参数，注意这里要用参数的'--'名称（长参数）\n",
    "if args.arg1:\n",
    "    print 'arg1 is: ',args.arg1\n",
    "\n",
    "# 因为arg2后面没有跟参数值，所以打印出来是True\n",
    "if args.arg2:\n",
    "    print 'arg2 is: ',args.arg2\n",
    "    \n",
    "if args.arg3:\n",
    "    print 'arg3 is: ',args.arg3\n",
    "    \n",
    "if args.arg4:\n",
    "    print 'arg4 is: ',args.arg4\n",
    "    \n",
    "if args.arg5:\n",
    "    print 'arg5 is: ',args.arg5\n",
    "    \n",
    "```"
   ]
  },
  {
   "cell_type": "markdown",
   "metadata": {},
   "source": [
    "## 执行脚本进行测试"
   ]
  },
  {
   "cell_type": "markdown",
   "metadata": {},
   "source": [
    "```\n",
    "(.env) e:\\code\\python-basic\\libs\\argparse>argtest.py -h\n",
    "usage: argtest.py [-h] [-a1 ARG1] [-a2] [-a3 {0,1,2}] [-a4 | -a5] arg0\n",
    "\n",
    "test the base usage of argparse.\n",
    "\n",
    "positional arguments:\n",
    "  arg0\n",
    "\n",
    "optional arguments:\n",
    "  -h, --help            show this help message and exit\n",
    "  -a1 ARG1, --arg1 ARG1\n",
    "                        this is arg1\n",
    "  -a2, --arg2           this is arg2\n",
    "  -a3 {0,1,2}, --arg3 {0,1,2}\n",
    "                        this is arg3\n",
    "  -a4, --arg4\n",
    "  -a5, --arg5\n",
    "```"
   ]
  },
  {
   "cell_type": "markdown",
   "metadata": {},
   "source": [
    "```\n",
    "(.env) e:\\code\\python-basic\\libs\\argparse>python argtest.py 000 -a1 111 -a2 --ar\n",
    "g3 2 -a4\n",
    "arg0 is:  000\n",
    "arg1 is:  111\n",
    "arg2 is:  True\n",
    "arg3 is:  2\n",
    "arg4 is:  True\n",
    "```"
   ]
  },
  {
   "cell_type": "markdown",
   "metadata": {},
   "source": [
    "```\n",
    "(.env) e:\\code\\python-basic\\libs\\argparse>python argtest.py\n",
    "usage: argtest.py [-h] [-a1 ARG1] [-a2] [-a3 {0,1,2}] [-a4 | -a5] arg0\n",
    "argtest.py: error: too few arguments\n",
    "```"
   ]
  },
  {
   "cell_type": "markdown",
   "metadata": {},
   "source": [
    "```\n",
    "(.env) e:\\code\\python-basic\\libs\\argparse>python argtest.py 000\n",
    "arg0 is:  000\n",
    "```"
   ]
  },
  {
   "cell_type": "markdown",
   "metadata": {},
   "source": [
    "```\n",
    "(.env) e:\\code\\python-basic\\libs\\argparse>python argtest.py 000 -a1\n",
    "usage: argtest.py [-h] [-a1 ARG1] [-a2] [-a3 {0,1,2}] [-a4 | -a5] arg0\n",
    "argtest.py: error: argument -a1/--arg1: expected one argument\n",
    "```"
   ]
  },
  {
   "cell_type": "markdown",
   "metadata": {},
   "source": [
    "```\n",
    "(.env) e:\\code\\python-basic\\libs\\argparse>python argtest.py 000 -a1 111\n",
    "arg0 is:  000\n",
    "arg1 is:  111\n",
    "```"
   ]
  },
  {
   "cell_type": "markdown",
   "metadata": {},
   "source": [
    "```\n",
    "(.env) e:\\code\\python-basic\\libs\\argparse>python argtest.py 000 -a1 111 -a2\n",
    "arg0 is:  000\n",
    "arg1 is:  111\n",
    "arg2 is:  True\n",
    "```"
   ]
  },
  {
   "cell_type": "markdown",
   "metadata": {},
   "source": [
    "```\n",
    "(.env) e:\\code\\python-basic\\libs\\argparse>python argtest.py 000 -a1 111 -a2 222\n",
    "usage: argtest.py [-h] [-a1 ARG1] [-a2] [-a3 {0,1,2}] [-a4 | -a5] arg0\n",
    "argtest.py: error: unrecognized arguments: 222\n",
    "```"
   ]
  },
  {
   "cell_type": "markdown",
   "metadata": {},
   "source": [
    "```\n",
    "(.env) e:\\code\\python-basic\\libs\\argparse>python argtest.py 000 -a3 333         \n",
    "usage: argtest.py [-h] [-a1 ARG1] [-a2] [-a3 {0,1,2}] [-a4 | -a5] arg0          \n",
    "argtest.py: error: argument -a3/--arg3: invalid choice: 333 (choose from 0, 1, 2)                                                                             \n",
    "```"
   ]
  },
  {
   "cell_type": "markdown",
   "metadata": {},
   "source": [
    "```\n",
    "(.env) e:\\code\\python-basic\\libs\\argparse>python argtest.py 000 -a3 2\n",
    "arg0 is:  000\n",
    "arg3 is:  2\n",
    "```"
   ]
  },
  {
   "cell_type": "markdown",
   "metadata": {},
   "source": [
    "```\n",
    "(.env) e:\\code\\python-basic\\libs\\argparse>python argtest.py 000 -a4 -a5\n",
    "usage: argtest.py [-h] [-a1 ARG1] [-a2] [-a3 {0,1,2}] [-a4 | -a5] arg0\n",
    "argtest.py: error: argument -a5/--arg5: not allowed with argument -a4/--arg4\n",
    "```"
   ]
  },
  {
   "cell_type": "markdown",
   "metadata": {},
   "source": [
    "```\n",
    "(.env) e:\\code\\python-basic\\libs\\argparse>python argtest.py 000 -a4\n",
    "arg0 is:  000\n",
    "arg4 is:  True\n",
    "```"
   ]
  }
 ],
 "metadata": {
  "kernelspec": {
   "display_name": "Python 2",
   "language": "python",
   "name": "python2"
  },
  "language_info": {
   "codemirror_mode": {
    "name": "ipython",
    "version": 2
   },
   "file_extension": ".py",
   "mimetype": "text/x-python",
   "name": "python",
   "nbconvert_exporter": "python",
   "pygments_lexer": "ipython2",
   "version": "2.7.13"
  }
 },
 "nbformat": 4,
 "nbformat_minor": 2
}

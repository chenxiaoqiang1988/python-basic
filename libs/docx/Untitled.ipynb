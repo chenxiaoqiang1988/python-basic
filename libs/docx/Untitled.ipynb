{
 "cells": [
  {
   "cell_type": "markdown",
   "metadata": {},
   "source": [
    "# 用python-docx模块读写word文档"
   ]
  },
  {
   "cell_type": "markdown",
   "metadata": {},
   "source": [
    "工作中会遇到需要读取一个有几百页的word文档并从中整理出一些信息的需求，比如产品的API文档一般是word格式的。几百页的文档，如果手工一个个去处理，几乎是不可能的事情。这时就要找一个库写脚本去实现了，而本文要讲的python-docx库就能满足这个需求。"
   ]
  },
  {
   "cell_type": "markdown",
   "metadata": {},
   "source": [
    "## 安装"
   ]
  },
  {
   "cell_type": "markdown",
   "metadata": {},
   "source": [
    "·pip install python-docx·"
   ]
  },
  {
   "cell_type": "markdown",
   "metadata": {},
   "source": [
    "## 写.docx文件"
   ]
  },
  {
   "cell_type": "markdown",
   "metadata": {},
   "source": [
    "示例代码："
   ]
  },
  {
   "cell_type": "markdown",
   "metadata": {},
   "source": [
    "```python\n",
    "# coding:utf-8\n",
    "# 写word文档文件\n",
    "import sys\n",
    "\n",
    "from docx import Document\n",
    "from docx.shared import Inches\n",
    "\n",
    "def main():\n",
    "    reload(sys)\n",
    "    sys.setdefaultencoding('utf-8')\n",
    "    \n",
    "    # 创建文档对象\n",
    "    document = Document()\n",
    "    \n",
    "    # 设置文档标题，中文要用unicode字符串\n",
    "    document.add_heading(u'我的一个新文档',0)\n",
    "    \n",
    "    # 往文档中添加段落\n",
    "    p = document.add_paragraph('This is a paragraph having some ')\n",
    "    p.add_run('bold ').bold = True\n",
    "    p.add_run('and some ')\n",
    "    p.add_run('italic.').italic = True\n",
    "    \n",
    "    # 添加一级标题\n",
    "    document.add_heading(u'一级标题, level = 1',level = 1)\n",
    "    document.add_paragraph('Intense quote',style = 'IntenseQuote')\n",
    "    \n",
    "    # 添加无序列表\n",
    "    document.add_paragraph('first item in unordered list',style = 'ListBullet')\n",
    "    \n",
    "    # 添加有序列表\n",
    "    document.add_paragraph('first item in ordered list',style = 'ListNumber')\n",
    "    document.add_paragraph('second item in ordered list',style = 'ListNumber')\n",
    "    document.add_paragraph('third item in ordered list',style = 'ListNumber')\n",
    "    \n",
    "    # 添加图片，并指定宽度\n",
    "    document.add_picture('e:/docs/pic.png',width = Inches(1.25))\n",
    "    \n",
    "    # 添加表格: 1行3列\n",
    "    table = document.add_table(rows = 1,cols = 3)\n",
    "    # 获取第一行的单元格列表对象\n",
    "    hdr_cells = table.rows[0].cells\n",
    "    # 为每一个单元格赋值\n",
    "    # 注：值都要为字符串类型\n",
    "    hdr_cells[0].text = 'Name'\n",
    "    hdr_cells[1].text = 'Age'\n",
    "    hdr_cells[2].text = 'Tel'\n",
    "    # 为表格添加一行\n",
    "    new_cells = table.add_row().cells\n",
    "    new_cells[0].text = 'Tom'\n",
    "    new_cells[1].text = '19'\n",
    "    new_cells[2].text = '12345678'\n",
    "    \n",
    "    # 添加分页符\n",
    "    document.add_page_break()\n",
    "    \n",
    "    # 往新的一页中添加段落\n",
    "    p = document.add_paragraph('This is a paragraph in new page.')\n",
    "    \n",
    "    # 保存文档\n",
    "    document.save('e:/docs/demo1.docx')\n",
    "    \n",
    "if __name__ == '__main__':\n",
    "    main()\n",
    "\n",
    "```"
   ]
  },
  {
   "cell_type": "markdown",
   "metadata": {},
   "source": [
    "执行以上代码会在'e:/docs/'路径下产生一个demo1.docx文件，其内容如下："
   ]
  },
  {
   "cell_type": "markdown",
   "metadata": {},
   "source": [
    "## 读.docx文件"
   ]
  },
  {
   "cell_type": "markdown",
   "metadata": {},
   "source": [
    "示例代码："
   ]
  },
  {
   "cell_type": "markdown",
   "metadata": {},
   "source": [
    "```python\n",
    "# coding:utf-8\n",
    "# 读取已有的word文档\n",
    "import sys\n",
    "\n",
    "from docx import Document\n",
    "\n",
    "def main():\n",
    "    reload(sys)\n",
    "    sys.setdefaultencoding('utf-8')\n",
    "    \n",
    "    # 创建文档对象\n",
    "    document = Document('e:/docs/demo2.docx')\n",
    "    \n",
    "    # 读取文档中所有的段落列表\n",
    "    ps = document.paragraphs\n",
    "    # 每个段落有两个属性：style和text\n",
    "    ps_detail = [(x.text,x.style.name) for x in ps]\n",
    "    with open('out.tmp','w+') as fout:\n",
    "        fout.write('')\n",
    "    # 读取段落并写入一个文件\n",
    "    with open('out.tmp','a+') as fout:\n",
    "        for p in ps_detail:\n",
    "            fout.write(p[0] + '\\t' + p[1] + '\\n\\n')\n",
    "    \n",
    "    # 读取文档中的所有段落的列表\n",
    "    tables = document.tables\n",
    "    # 遍历table，并将所有单元格内容写入文件中\n",
    "    with open('out.tmp','a+') as fout:\n",
    "        for table in tables:\n",
    "            for row in table.rows:\n",
    "                for cell in row.cells:\n",
    "                    fout.write(cell.text + '\\t')\n",
    "                fout.write('\\n')\n",
    "    \n",
    "if __name__ == '__main__':\n",
    "    main()\n",
    "```"
   ]
  },
  {
   "cell_type": "markdown",
   "metadata": {},
   "source": [
    "假如在'e:/docs/'路径下有一个demo2.docx文档，其内如如下："
   ]
  },
  {
   "cell_type": "markdown",
   "metadata": {},
   "source": [
    "执行上面脚本后，输出的out.tmp文件的内容如下："
   ]
  }
 ],
 "metadata": {
  "kernelspec": {
   "display_name": "Python 2",
   "language": "python",
   "name": "python2"
  },
  "language_info": {
   "codemirror_mode": {
    "name": "ipython",
    "version": 2
   },
   "file_extension": ".py",
   "mimetype": "text/x-python",
   "name": "python",
   "nbconvert_exporter": "python",
   "pygments_lexer": "ipython2",
   "version": "2.7.13"
  }
 },
 "nbformat": 4,
 "nbformat_minor": 2
}

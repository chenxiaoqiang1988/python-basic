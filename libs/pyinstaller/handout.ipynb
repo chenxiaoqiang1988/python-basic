{
 "cells": [
  {
   "cell_type": "markdown",
   "metadata": {},
   "source": [
    "# python打包工具pyinstaller的用法"
   ]
  },
  {
   "cell_type": "markdown",
   "metadata": {},
   "source": [
    "pyinstaller是一个很好用的python打包工具，在Windows环境下可以将多个python脚本打包成一个exe可执行文件，而脚本中所依赖的各种第三方库在打包时候都会被统一处理到一起，这样打包成的exe文件就可以在没有安装这些库的电脑上执行，甚至也可以在没有安装任何python环境的电脑上执行。"
   ]
  },
  {
   "cell_type": "markdown",
   "metadata": {},
   "source": [
    "## 安装"
   ]
  },
  {
   "cell_type": "markdown",
   "metadata": {},
   "source": [
    "`pip install pyinstaller`"
   ]
  },
  {
   "cell_type": "markdown",
   "metadata": {},
   "source": [
    "## 基本用法"
   ]
  },
  {
   "cell_type": "markdown",
   "metadata": {},
   "source": [
    "在要打包的py脚本（比如名称为demo.py）所在的目录下，执行："
   ]
  },
  {
   "cell_type": "markdown",
   "metadata": {},
   "source": [
    "`pyinstaller -F -w -i icon.ico demo.py`"
   ]
  },
  {
   "cell_type": "markdown",
   "metadata": {},
   "source": [
    "其中icon.ico是当前目录下的一个图标文件，在命令行中执行这条命令后，在当前目录下就会生成一个名为demo.exe的可执行文件，且其图标为icon.ico文件。"
   ]
  },
  {
   "cell_type": "markdown",
   "metadata": {},
   "source": [
    "几项参数的含义："
   ]
  },
  {
   "cell_type": "markdown",
   "metadata": {},
   "source": [
    "* -F：打包为单文件"
   ]
  },
  {
   "cell_type": "markdown",
   "metadata": {},
   "source": [
    "* -w：Windows程序，不显示命令行窗口"
   ]
  },
  {
   "cell_type": "markdown",
   "metadata": {},
   "source": [
    "* -i：后面跟图标文件路径"
   ]
  },
  {
   "cell_type": "markdown",
   "metadata": {},
   "source": [
    "* demo.py：要打包成exe文件的脚本文件"
   ]
  },
  {
   "cell_type": "markdown",
   "metadata": {},
   "source": [
    "## 实例"
   ]
  },
  {
   "cell_type": "markdown",
   "metadata": {},
   "source": [
    "当前目录下有一个名为argtest.py的脚本文件（内容如下），还有一个arg.png的图片文件。"
   ]
  },
  {
   "cell_type": "markdown",
   "metadata": {},
   "source": [
    "```python\n",
    "# coding:utf-8\n",
    "# 测试argparse模块的基本用法\n",
    "import argparse\n",
    "\n",
    "# 创建参数解析对象，并添加脚本用法帮助\n",
    "parser = argparse.ArgumentParser(description = 'test the base usage of argparse.')\n",
    "\n",
    "# 添加位置参数\n",
    "# 所谓位置参数，就是指直接添加的参数而不用使用'-'、'--'等符号\n",
    "# 添加了位置参数，它就是必选参数\n",
    "parser.add_argument('arg0')\n",
    "\n",
    "# 添加可选参数，但如果执行命令时带有该参数，后面必须跟参数值\n",
    "# '-'后面跟短参数，'--'后面跟长参数\n",
    "# help参数为该参数的帮助信息\n",
    "parser.add_argument('-a1','--arg1',help = 'this is arg1')\n",
    "\n",
    "# 添加可选参数，但后面不能跟参数值\n",
    "parser.add_argument('-a2','--arg2',help = 'this is arg2',action = 'store_true')\n",
    "\n",
    "# 添加可选参数并指定参数值数据类型为整型，且数据范围为[0,1,2]，且指定默认值为0,如果输入的值不是整型或值不在要求的范围内，则会报错\n",
    "parser.add_argument('-a3','--arg3',type = int,choices = [0,1,2],default = 0,help = 'this is arg3')\n",
    "\n",
    "# 添加一组可选的互斥参数\n",
    "# a4和a5参数不能同时出现，否则会报错\n",
    "group = parser.add_mutually_exclusive_group()\n",
    "group.add_argument('-a4','--arg4',action = 'store_true')\n",
    "group.add_argument('-a5','--arg5',action = 'store_true')\n",
    "\n",
    "#####################################\n",
    "\n",
    "# 执行解析参数\n",
    "args = parser.parse_args()\n",
    "\n",
    "# 打印出位置参数'arg0'\n",
    "print 'arg0 is: ',args.arg0\n",
    "\n",
    "# 打印出其他位置参数，注意这里要用参数的'--'名称（长参数）\n",
    "if args.arg1:\n",
    "    print 'arg1 is: ',args.arg1\n",
    "\n",
    "# 因为arg2后面没有跟参数值，所以打印出来是True\n",
    "if args.arg2:\n",
    "    print 'arg2 is: ',args.arg2\n",
    "    \n",
    "if args.arg3:\n",
    "    print 'arg3 is: ',args.arg3\n",
    "    \n",
    "if args.arg4:\n",
    "    print 'arg4 is: ',args.arg4\n",
    "    \n",
    "if args.arg5:\n",
    "    print 'arg5 is: ',args.arg5\n",
    "    \n",
    "```"
   ]
  },
  {
   "cell_type": "markdown",
   "metadata": {},
   "source": [
    "在命令行当前目录下执行命令：``"
   ]
  }
 ],
 "metadata": {
  "kernelspec": {
   "display_name": "Python 2",
   "language": "python",
   "name": "python2"
  },
  "language_info": {
   "codemirror_mode": {
    "name": "ipython",
    "version": 2
   },
   "file_extension": ".py",
   "mimetype": "text/x-python",
   "name": "python",
   "nbconvert_exporter": "python",
   "pygments_lexer": "ipython2",
   "version": "2.7.13"
  }
 },
 "nbformat": 4,
 "nbformat_minor": 2
}

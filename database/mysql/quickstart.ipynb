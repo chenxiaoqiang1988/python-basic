{
 "cells": [
  {
   "cell_type": "markdown",
   "metadata": {},
   "source": [
    "# MySQL-python数据库模块"
   ]
  },
  {
   "cell_type": "markdown",
   "metadata": {},
   "source": [
    "本文主要介绍在python中如何使用MySQL数据库。"
   ]
  },
  {
   "cell_type": "markdown",
   "metadata": {},
   "source": [
    "# 准备工作"
   ]
  },
  {
   "cell_type": "markdown",
   "metadata": {},
   "source": [
    "### 安装mysql"
   ]
  },
  {
   "cell_type": "markdown",
   "metadata": {},
   "source": [
    "* Linux (Ubuntu)"
   ]
  },
  {
   "cell_type": "markdown",
   "metadata": {},
   "source": [
    "`apt-get install mysql-server`"
   ]
  },
  {
   "cell_type": "markdown",
   "metadata": {},
   "source": [
    "安装完成之后在命令行中输入：`mysql -uroot -proot`，看是否能够成功登入MySQL命令行，如果能够成功登入，则说明安装成功。"
   ]
  },
  {
   "cell_type": "markdown",
   "metadata": {},
   "source": [
    "* Windows"
   ]
  },
  {
   "cell_type": "markdown",
   "metadata": {},
   "source": [
    "下载MSI安装包mysql-installer-community-5.7.19.0.msi安装，官网地址：https://dev.mysql.com/downloads/installer/"
   ]
  },
  {
   "cell_type": "markdown",
   "metadata": {},
   "source": [
    "注：注意下载页面这样一句话：Note: MySQL Installer is 32 bit, but will install both 32 bit and 64 bit binaries."
   ]
  },
  {
   "cell_type": "markdown",
   "metadata": {},
   "source": [
    "也就是说32位版本和64位版本的安装包是二合一的。"
   ]
  },
  {
   "cell_type": "markdown",
   "metadata": {},
   "source": [
    "下载之后打开一路Next安装即可，只需在有一步设置账号的时候设置好MySQL的登录用户名和密码即可（比如我设置的用户名/密码是：root/root）。"
   ]
  },
  {
   "cell_type": "markdown",
   "metadata": {},
   "source": [
    "安装完成之后在命令行中输入：`mysql -uroot -proot`，看是否能够成功登入MySQL命令行，如果能够成功登入，则说明安装成功；如果提示找不到mysql命令，则还需要手工把mysql.exe的路径添加到环境变量，比如我的路径是：`C:\\Program Files\\MySQL\\MySQL Server 5.7\\bin`"
   ]
  },
  {
   "cell_type": "markdown",
   "metadata": {},
   "source": [
    "### 安装MySQL-python驱动模块"
   ]
  },
  {
   "cell_type": "markdown",
   "metadata": {},
   "source": [
    "* Linux (Ubuntu)"
   ]
  },
  {
   "cell_type": "markdown",
   "metadata": {},
   "source": [
    "`pip install MySQL-python`"
   ]
  },
  {
   "cell_type": "markdown",
   "metadata": {},
   "source": [
    "* Windows"
   ]
  },
  {
   "cell_type": "markdown",
   "metadata": {},
   "source": [
    "Windows下直接用`pip install MySQL-python`命令安装会报错：_mysql.c(42) : fatal error C1083: Cannot open include file: 'config-win.h':No such file or directory"
   ]
  },
  {
   "cell_type": "markdown",
   "metadata": {},
   "source": [
    "解决方法："
   ]
  },
  {
   "cell_type": "markdown",
   "metadata": {},
   "source": [
    "在命令行中输入`python`命令打开python控制台，查看本地安装的python是32位的还是64位的，然后根据本地python的位数来下载如下两个安装包的其中之一："
   ]
  },
  {
   "cell_type": "markdown",
   "metadata": {},
   "source": [
    "32位：MySQL-python-1.2.5.win32-py2.7.exe，下载地址：https://pan.baidu.com/s/1qYa5H4w"
   ]
  },
  {
   "cell_type": "markdown",
   "metadata": {},
   "source": [
    "64位：MySQL-python-1.2.5.win-amd64-py2.7.exe，下载地址：https://pan.baidu.com/s/1qYa5H4w"
   ]
  },
  {
   "cell_type": "markdown",
   "metadata": {},
   "source": [
    "在安装时可能还会遇到问题：python version 2.7 required which was not found in the registry"
   ]
  },
  {
   "cell_type": "markdown",
   "metadata": {},
   "source": [
    "解决方法：下载register.py文件，并在命令行中用python命令执行该脚本即可，下载地址：https://pan.baidu.com/s/1mihz25M"
   ]
  },
  {
   "cell_type": "markdown",
   "metadata": {},
   "source": [
    "### 验证安装是否成功"
   ]
  },
  {
   "cell_type": "markdown",
   "metadata": {},
   "source": [
    "进入python交互式环境，输入：`import MySQLdb`,如果没有报错，则表明安装mysql及MySQL-python成功。"
   ]
  },
  {
   "cell_type": "markdown",
   "metadata": {},
   "source": [
    "### 在virtualenv虚拟化环境中安装MySQL-python"
   ]
  },
  {
   "cell_type": "markdown",
   "metadata": {},
   "source": [
    "如果日常使用的是virtualenv环境，因为virtualenv是相对独立的环境，所以还需要单独安装MySQL-python。"
   ]
  },
  {
   "cell_type": "markdown",
   "metadata": {},
   "source": [
    "* Linux (Ubuntu)"
   ]
  },
  {
   "cell_type": "markdown",
   "metadata": {},
   "source": [
    "`pip install MySQL-python`"
   ]
  },
  {
   "cell_type": "markdown",
   "metadata": {},
   "source": [
    "* Windows"
   ]
  },
  {
   "cell_type": "markdown",
   "metadata": {},
   "source": [
    "在主环境安装好MySQL-python后，进入python安装目录（如：C:\\Python27）下的lib\\site-packages目录下，找到如下四组文件/文件夹："
   ]
  },
  {
   "cell_type": "markdown",
   "metadata": {},
   "source": [
    "`MySQL_python-1.2.5-py2.7.egg-info`（文件夹）"
   ]
  },
  {
   "cell_type": "markdown",
   "metadata": {},
   "source": [
    "`MySQLdb` （文件夹）"
   ]
  },
  {
   "cell_type": "markdown",
   "metadata": {},
   "source": [
    "`_mysql_exceptions.py/_mysql_exceptions.pyc/_mysql_exceptions.pyo` （文件）"
   ]
  },
  {
   "cell_type": "markdown",
   "metadata": {},
   "source": [
    "`_mysql.pyd`（文件）"
   ]
  },
  {
   "cell_type": "markdown",
   "metadata": {},
   "source": [
    "然后把以上几个文件/文件夹都复制到virtualenv安装目录的lib\\site-packages目录下。然后在virtualenv环境下进入pyton交互式环境，输入`import MySQLdb`验证是否成功。"
   ]
  },
  {
   "cell_type": "markdown",
   "metadata": {},
   "source": [
    "### 预置mysql数据"
   ]
  },
  {
   "cell_type": "code",
   "execution_count": null,
   "metadata": {
    "collapsed": true
   },
   "outputs": [],
   "source": []
  }
 ],
 "metadata": {
  "kernelspec": {
   "display_name": "Python 2",
   "language": "python",
   "name": "python2"
  },
  "language_info": {
   "codemirror_mode": {
    "name": "ipython",
    "version": 2
   },
   "file_extension": ".py",
   "mimetype": "text/x-python",
   "name": "python",
   "nbconvert_exporter": "python",
   "pygments_lexer": "ipython2",
   "version": "2.7.13"
  }
 },
 "nbformat": 4,
 "nbformat_minor": 2
}

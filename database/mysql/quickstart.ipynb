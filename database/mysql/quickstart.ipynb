{
 "cells": [
  {
   "cell_type": "markdown",
   "metadata": {},
   "source": [
    "# MySQL-python数据库模块"
   ]
  },
  {
   "cell_type": "markdown",
   "metadata": {},
   "source": [
    "本文主要介绍在python中如何使用MySQL数据库。"
   ]
  },
  {
   "cell_type": "markdown",
   "metadata": {},
   "source": [
    "# 准备工作"
   ]
  },
  {
   "cell_type": "markdown",
   "metadata": {},
   "source": [
    "### 安装mysql"
   ]
  },
  {
   "cell_type": "markdown",
   "metadata": {},
   "source": [
    "* Linux (Ubuntu)"
   ]
  },
  {
   "cell_type": "markdown",
   "metadata": {},
   "source": [
    "`apt-get install mysql-server`"
   ]
  },
  {
   "cell_type": "markdown",
   "metadata": {},
   "source": [
    "安装完成之后在命令行中输入：`mysql -uroot -proot`，看是否能够成功登入MySQL命令行，如果能够成功登入，则说明安装成功。"
   ]
  },
  {
   "cell_type": "markdown",
   "metadata": {},
   "source": [
    "* Windows"
   ]
  },
  {
   "cell_type": "markdown",
   "metadata": {},
   "source": [
    "下载MSI安装包mysql-installer-community-5.7.19.0.msi安装，官网地址：https://dev.mysql.com/downloads/installer/"
   ]
  },
  {
   "cell_type": "markdown",
   "metadata": {},
   "source": [
    "注：注意下载页面这样一句话：Note: MySQL Installer is 32 bit, but will install both 32 bit and 64 bit binaries."
   ]
  },
  {
   "cell_type": "markdown",
   "metadata": {},
   "source": [
    "也就是说32位版本和64位版本的安装包是二合一的。"
   ]
  },
  {
   "cell_type": "markdown",
   "metadata": {},
   "source": [
    "下载之后打开一路Next安装即可，只需在有一步设置账号的时候设置好MySQL的登录用户名和密码即可（比如我设置的用户名/密码是：root/root）。"
   ]
  },
  {
   "cell_type": "markdown",
   "metadata": {},
   "source": [
    "安装完成之后在命令行中输入：`mysql -uroot -proot`，看是否能够成功登入MySQL命令行，如果能够成功登入，则说明安装成功；如果提示找不到mysql命令，则还需要手工把mysql.exe的路径添加到环境变量，比如我的路径是：`C:\\Program Files\\MySQL\\MySQL Server 5.7\\bin`"
   ]
  },
  {
   "cell_type": "markdown",
   "metadata": {},
   "source": [
    "### 安装MySQL-python驱动模块"
   ]
  },
  {
   "cell_type": "markdown",
   "metadata": {},
   "source": [
    "* Linux (Ubuntu)"
   ]
  },
  {
   "cell_type": "markdown",
   "metadata": {},
   "source": [
    "`pip install MySQL-python`"
   ]
  },
  {
   "cell_type": "markdown",
   "metadata": {},
   "source": [
    "* Windows"
   ]
  },
  {
   "cell_type": "markdown",
   "metadata": {},
   "source": [
    "Windows下直接用`pip install MySQL-python`命令安装会报错：_mysql.c(42) : fatal error C1083: Cannot open include file: 'config-win.h':No such file or directory"
   ]
  },
  {
   "cell_type": "markdown",
   "metadata": {},
   "source": [
    "解决方法："
   ]
  },
  {
   "cell_type": "markdown",
   "metadata": {},
   "source": [
    "在命令行中输入`python`命令打开python控制台，查看本地安装的python是32位的还是64位的，然后根据本地python的位数来下载如下两个安装包的其中之一："
   ]
  },
  {
   "cell_type": "markdown",
   "metadata": {},
   "source": [
    "32位：MySQL-python-1.2.5.win32-py2.7.exe，下载地址：https://pan.baidu.com/s/1qYa5H4w"
   ]
  },
  {
   "cell_type": "markdown",
   "metadata": {},
   "source": [
    "64位：MySQL-python-1.2.5.win-amd64-py2.7.exe，下载地址：https://pan.baidu.com/s/1qYa5H4w"
   ]
  },
  {
   "cell_type": "markdown",
   "metadata": {},
   "source": [
    "在安装时可能还会遇到问题：python version 2.7 required which was not found in the registry"
   ]
  },
  {
   "cell_type": "markdown",
   "metadata": {},
   "source": [
    "解决方法：下载register.py文件，并在命令行中用python命令执行该脚本即可，下载地址：https://pan.baidu.com/s/1mihz25M"
   ]
  },
  {
   "cell_type": "markdown",
   "metadata": {},
   "source": [
    "### 验证安装是否成功"
   ]
  },
  {
   "cell_type": "markdown",
   "metadata": {},
   "source": [
    "进入python交互式环境，输入：`import MySQLdb`,如果没有报错，则表明安装mysql及MySQL-python成功。"
   ]
  },
  {
   "cell_type": "markdown",
   "metadata": {},
   "source": [
    "### 在virtualenv虚拟化环境中安装MySQL-python"
   ]
  },
  {
   "cell_type": "markdown",
   "metadata": {},
   "source": [
    "如果日常使用的是virtualenv环境，因为virtualenv是相对独立的环境，所以还需要单独安装MySQL-python。"
   ]
  },
  {
   "cell_type": "markdown",
   "metadata": {},
   "source": [
    "* Linux (Ubuntu)"
   ]
  },
  {
   "cell_type": "markdown",
   "metadata": {},
   "source": [
    "`pip install MySQL-python`"
   ]
  },
  {
   "cell_type": "markdown",
   "metadata": {},
   "source": [
    "* Windows"
   ]
  },
  {
   "cell_type": "markdown",
   "metadata": {},
   "source": [
    "在主环境安装好MySQL-python后，进入python安装目录（如：C:\\Python27）下的lib\\site-packages目录下，找到如下四组文件/文件夹："
   ]
  },
  {
   "cell_type": "markdown",
   "metadata": {},
   "source": [
    "`MySQL_python-1.2.5-py2.7.egg-info`（文件夹）"
   ]
  },
  {
   "cell_type": "markdown",
   "metadata": {},
   "source": [
    "`MySQLdb` （文件夹）"
   ]
  },
  {
   "cell_type": "markdown",
   "metadata": {},
   "source": [
    "`_mysql_exceptions.py/_mysql_exceptions.pyc/_mysql_exceptions.pyo` （文件）"
   ]
  },
  {
   "cell_type": "markdown",
   "metadata": {},
   "source": [
    "`_mysql.pyd`（文件）"
   ]
  },
  {
   "cell_type": "markdown",
   "metadata": {},
   "source": [
    "然后把以上几个文件/文件夹都复制到virtualenv安装目录的lib\\site-packages目录下。然后在virtualenv环境下进入pyton交互式环境，输入`import MySQLdb`验证是否成功。"
   ]
  },
  {
   "cell_type": "markdown",
   "metadata": {},
   "source": [
    "### 预置mysql数据"
   ]
  },
  {
   "cell_type": "markdown",
   "metadata": {
    "collapsed": true
   },
   "source": [
    "* 在命令行中登录mysql（假如用户名/密码是：root/root）：`mysql -uroot -proot`"
   ]
  },
  {
   "cell_type": "markdown",
   "metadata": {},
   "source": [
    "以下命令都是在登录mysql后的mysql命令行中执行的："
   ]
  },
  {
   "cell_type": "markdown",
   "metadata": {},
   "source": [
    "* 查看当前有哪些数据库：`show databases;`"
   ]
  },
  {
   "cell_type": "markdown",
   "metadata": {},
   "source": [
    "* 创建一个新的名为info的数据库：`create database info;`"
   ]
  },
  {
   "cell_type": "markdown",
   "metadata": {},
   "source": [
    "* 切换到info数据库：`use info;`"
   ]
  },
  {
   "cell_type": "markdown",
   "metadata": {},
   "source": [
    "* 创建一个表person：`create table person(id int not null auto_increment primary key,name varchar(32),age int);`"
   ]
  },
  {
   "cell_type": "markdown",
   "metadata": {},
   "source": [
    "* 查看当前有哪些表：`show tables;`"
   ]
  },
  {
   "cell_type": "markdown",
   "metadata": {},
   "source": [
    "* 往person表中插入一些数据："
   ]
  },
  {
   "cell_type": "markdown",
   "metadata": {},
   "source": [
    "```bash\n",
    "insert into person(name,age) values('Tom',18);\n",
    "insert into person(name,age) values('John',23);\n",
    "insert into person(name,age) values('Amy',15);\n",
    "```"
   ]
  },
  {
   "cell_type": "markdown",
   "metadata": {},
   "source": [
    "* 查询person表：`select * from person;`"
   ]
  },
  {
   "cell_type": "markdown",
   "metadata": {},
   "source": [
    "```bash\n",
    "mysql> select * from person;\n",
    "+----+------+------+\n",
    "| id | name | age  |\n",
    "+----+------+------+\n",
    "|  1 | Tom  |   18 |\n",
    "|  2 | John |   23 |\n",
    "|  3 | Amy  |   15 |\n",
    "+----+------+------+\n",
    "3 rows in set (0.00 sec)\n",
    "```"
   ]
  },
  {
   "cell_type": "markdown",
   "metadata": {},
   "source": [
    "# 用python操作数据库"
   ]
  },
  {
   "cell_type": "markdown",
   "metadata": {},
   "source": [
    "### 连接mysql"
   ]
  },
  {
   "cell_type": "markdown",
   "metadata": {},
   "source": [
    "导入包："
   ]
  },
  {
   "cell_type": "code",
   "execution_count": 1,
   "metadata": {
    "collapsed": true
   },
   "outputs": [],
   "source": [
    "import MySQLdb"
   ]
  },
  {
   "cell_type": "markdown",
   "metadata": {},
   "source": [
    "获取数据库连接对象："
   ]
  },
  {
   "cell_type": "code",
   "execution_count": 2,
   "metadata": {
    "collapsed": true
   },
   "outputs": [],
   "source": [
    "conn = MySQLdb.connect(user = 'root',passwd = 'root',host = '127.0.0.1')"
   ]
  },
  {
   "cell_type": "markdown",
   "metadata": {},
   "source": [
    "注：MySQLdb.connect()函数可以接收的常用的几个参数："
   ]
  },
  {
   "cell_type": "markdown",
   "metadata": {},
   "source": [
    "* host：连接的服务器主机名，默认为本机（localhost）"
   ]
  },
  {
   "cell_type": "markdown",
   "metadata": {},
   "source": [
    "* user：数据库用户名，默认为当前用户"
   ]
  },
  {
   "cell_type": "markdown",
   "metadata": {},
   "source": [
    "* passwd：用户登录密码，无默认值"
   ]
  },
  {
   "cell_type": "markdown",
   "metadata": {},
   "source": [
    "* db：连接的数据库名，无默认值"
   ]
  },
  {
   "cell_type": "markdown",
   "metadata": {},
   "source": [
    "* read_default_file：使用指定的mysql配置文件"
   ]
  },
  {
   "cell_type": "markdown",
   "metadata": {},
   "source": [
    "* port：连接端口，默认为3306"
   ]
  },
  {
   "cell_type": "markdown",
   "metadata": {},
   "source": [
    "* connect_timeout：连接超时时间，单位为秒"
   ]
  },
  {
   "cell_type": "markdown",
   "metadata": {},
   "source": [
    "获取游标（相当于一个指针）："
   ]
  },
  {
   "cell_type": "code",
   "execution_count": 4,
   "metadata": {
    "collapsed": true
   },
   "outputs": [],
   "source": [
    "cur = conn.cursor()"
   ]
  },
  {
   "cell_type": "markdown",
   "metadata": {},
   "source": [
    "设置当前数据库为info："
   ]
  },
  {
   "cell_type": "code",
   "execution_count": 5,
   "metadata": {
    "collapsed": true
   },
   "outputs": [],
   "source": [
    "conn.select_db('info')"
   ]
  },
  {
   "cell_type": "markdown",
   "metadata": {},
   "source": [
    "注：不建议在python中操作数据库创建表。"
   ]
  },
  {
   "cell_type": "markdown",
   "metadata": {},
   "source": [
    "### 执行sql语句插入数据"
   ]
  },
  {
   "cell_type": "markdown",
   "metadata": {},
   "source": [
    "假如向person表中插入数据："
   ]
  },
  {
   "cell_type": "code",
   "execution_count": 10,
   "metadata": {
    "collapsed": true
   },
   "outputs": [],
   "source": [
    "sql = 'insert into person(name,age) values(\"Zhangsan\",34)'  # 组装sql\n",
    "cur.execute(sql)  # 执行sql\n",
    "conn.commit()  # 提交，如果没有这句，更改不会生效\n",
    "cur.close()\n",
    "conn.close()  # 用完之后最好关闭游标和连接对象"
   ]
  },
  {
   "cell_type": "markdown",
   "metadata": {},
   "source": [
    "此时去mysql中，进入info数据库，查询：`select * from person;`，结果如下："
   ]
  },
  {
   "cell_type": "markdown",
   "metadata": {},
   "source": [
    "```bash\n",
    "mysql> select * from person;\n",
    "+----+----------+------+\n",
    "| id | name     | age  |\n",
    "+----+----------+------+\n",
    "|  1 | Tom      |   18 |\n",
    "|  2 | John     |   23 |\n",
    "|  3 | Amy      |   15 |\n",
    "|  4 | Zhangsan |   34 |\n",
    "+----+----------+------+\n",
    "4 rows in set (0.00 sec)\n",
    "```"
   ]
  },
  {
   "cell_type": "markdown",
   "metadata": {},
   "source": [
    "发现成功插入一条数据。"
   ]
  },
  {
   "cell_type": "markdown",
   "metadata": {
    "collapsed": true
   },
   "source": [
    "### 批量插入数据"
   ]
  },
  {
   "cell_type": "markdown",
   "metadata": {},
   "source": [
    "使用占位符和列表："
   ]
  },
  {
   "cell_type": "code",
   "execution_count": 6,
   "metadata": {
    "collapsed": true
   },
   "outputs": [],
   "source": [
    "sql = 'insert into person(name,age) values(%s,%s)'\n",
    "cur.execute(sql,('Lisi',23))  # 插入一条数据\n",
    "persons = [('Wangwu',32),('Zhaoliu',12),('Tianqi',45)]\n",
    "cur.executemany(sql,persons)  # 插入多条\n",
    "conn.commit()  # 提交"
   ]
  },
  {
   "cell_type": "markdown",
   "metadata": {},
   "source": [
    "此时去mysql中，进入info数据库，查询：`select * from person;`，结果如下："
   ]
  },
  {
   "cell_type": "markdown",
   "metadata": {},
   "source": [
    "```bash\n",
    "mysql> select * from person;\n",
    "+----+----------+------+\n",
    "| id | name     | age  |\n",
    "+----+----------+------+\n",
    "|  1 | Tom      |   18 |\n",
    "|  2 | John     |   23 |\n",
    "|  3 | Amy      |   15 |\n",
    "|  4 | Zhangsan |   34 |\n",
    "|  5 | Lisi     |   23 |\n",
    "|  6 | Wangwu   |   32 |\n",
    "|  7 | Zhaoliu  |   12 |\n",
    "|  8 | Tianqi   |   45 |\n",
    "+----+----------+------+\n",
    "8 rows in set (0.07 sec)\n",
    "```"
   ]
  },
  {
   "cell_type": "markdown",
   "metadata": {},
   "source": [
    "### 删除数据"
   ]
  },
  {
   "cell_type": "code",
   "execution_count": 7,
   "metadata": {
    "collapsed": true
   },
   "outputs": [],
   "source": [
    "sql = 'delete from person where name = \"Tianqi\"'\n",
    "cur.execute(sql)\n",
    "conn.commit()"
   ]
  },
  {
   "cell_type": "markdown",
   "metadata": {},
   "source": [
    "```bash\n",
    "mysql> select * from person;\n",
    "+----+----------+------+\n",
    "| id | name     | age  |\n",
    "+----+----------+------+\n",
    "|  1 | Tom      |   18 |\n",
    "|  2 | John     |   23 |\n",
    "|  3 | Amy      |   15 |\n",
    "|  4 | Zhangsan |   34 |\n",
    "|  5 | Lisi     |   23 |\n",
    "|  6 | Wangwu   |   32 |\n",
    "|  7 | Zhaoliu  |   12 |\n",
    "+----+----------+------+\n",
    "7 rows in set (0.00 sec)\n",
    "```"
   ]
  },
  {
   "cell_type": "markdown",
   "metadata": {},
   "source": [
    "### 更新数据"
   ]
  },
  {
   "cell_type": "code",
   "execution_count": 8,
   "metadata": {
    "collapsed": true
   },
   "outputs": [],
   "source": [
    "sql = 'update person set age = 88 where name = \"Zhaoliu\"'\n",
    "cur.execute(sql)\n",
    "conn.commit()"
   ]
  },
  {
   "cell_type": "markdown",
   "metadata": {},
   "source": [
    "```bash\n",
    "mysql> select * from person;\n",
    "+----+----------+------+\n",
    "| id | name     | age  |\n",
    "+----+----------+------+\n",
    "|  1 | Tom      |   18 |\n",
    "|  2 | John     |   23 |\n",
    "|  3 | Amy      |   15 |\n",
    "|  4 | Zhangsan |   34 |\n",
    "|  5 | Lisi     |   23 |\n",
    "|  6 | Wangwu   |   32 |\n",
    "|  7 | Zhaoliu  |   88 |\n",
    "+----+----------+------+\n",
    "7 rows in set (0.00 sec)\n",
    "```"
   ]
  },
  {
   "cell_type": "markdown",
   "metadata": {},
   "source": [
    "### 查询数据"
   ]
  },
  {
   "cell_type": "code",
   "execution_count": 11,
   "metadata": {
    "scrolled": false
   },
   "outputs": [
    {
     "name": "stdout",
     "output_type": "stream",
     "text": [
      "【Output 1】\n",
      "((1L, 'Tom', 18L), (2L, 'John', 23L), (3L, 'Amy', 15L), (4L, 'Zhangsan', 34L), (5L, 'Lisi', 23L), (6L, 'Wangwu', 32L), (7L, 'Zhaoliu', 88L))\n",
      "【Output 2】\n",
      "((1L, 'Tom', 18L), (2L, 'John', 23L), (3L, 'Amy', 15L))\n",
      "【Output 3】\n",
      "(1L, 'Tom', 18L)\n",
      "(2L, 'John', 23L)\n"
     ]
    }
   ],
   "source": [
    "sql = 'select * from person'\n",
    "cur.execute(sql)\n",
    "# 取查到的所有结果，并把游标移到结尾\n",
    "print '【Output 1】'\n",
    "print cur.fetchall()\n",
    "\n",
    "# 把游标移到开头\n",
    "cur.scroll(0,'absolute')\n",
    "\n",
    "# 取查到的前n条数据，并把游标移到第n+1位置\n",
    "print '【Output 2】'\n",
    "print cur.fetchmany(3)\n",
    "\n",
    "# 把游标移到开头\n",
    "cur.scroll(0,'absolute')\n",
    "\n",
    "# 取查到的一条数据，并把游标向后移动一位\n",
    "print '【Output 3】'\n",
    "print cur.fetchone()\n",
    "print cur.fetchone()"
   ]
  }
 ],
 "metadata": {
  "kernelspec": {
   "display_name": "Python 2",
   "language": "python",
   "name": "python2"
  },
  "language_info": {
   "codemirror_mode": {
    "name": "ipython",
    "version": 2
   },
   "file_extension": ".py",
   "mimetype": "text/x-python",
   "name": "python",
   "nbconvert_exporter": "python",
   "pygments_lexer": "ipython2",
   "version": "2.7.13"
  }
 },
 "nbformat": 4,
 "nbformat_minor": 2
}
